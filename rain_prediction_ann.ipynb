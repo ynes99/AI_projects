{
  "cells": [
    {
      "cell_type": "markdown",
      "metadata": {
        "id": "view-in-github",
        "colab_type": "text"
      },
      "source": [
        "<a href=\"https://colab.research.google.com/github/ynes99/AI_projects/blob/main/rain_prediction_ann.ipynb\" target=\"_parent\"><img src=\"https://colab.research.google.com/assets/colab-badge.svg\" alt=\"Open In Colab\"/></a>"
      ]
    },
    {
      "cell_type": "code",
      "execution_count": 1,
      "metadata": {
        "id": "WGIMieRhSBs8"
      },
      "outputs": [],
      "source": [
        "import matplotlib.pyplot as plt\n",
        "import seaborn as sns\n",
        "import datetime\n",
        "from sklearn.preprocessing import LabelEncoder\n",
        "from sklearn import preprocessing\n",
        "from sklearn.preprocessing import StandardScaler\n",
        "from sklearn.model_selection import train_test_split\n",
        "import seaborn as sns\n",
        "from keras.layers import Dense, BatchNormalization, Dropout, LSTM\n",
        "from keras.models import Sequential\n",
        "from keras.utils import to_categorical\n",
        "from keras.optimizers import Adam\n",
        "from tensorflow.keras import regularizers\n",
        "from sklearn.metrics import precision_score, recall_score, confusion_matrix, classification_report, accuracy_score, f1_score\n",
        "from keras import callbacks\n",
        "import numpy as np # linear algebra\n",
        "import pandas as pd # data processing, CSV file I/O (e.g. pd.read_csv)\n",
        "import os\n",
        "\n",
        "np.random.seed(0)"
      ]
    },
    {
      "cell_type": "code",
      "execution_count": 2,
      "metadata": {
        "colab": {
          "base_uri": "https://localhost:8080/"
        },
        "id": "qvw187Trvsdm",
        "outputId": "fda9dd60-8194-4653-c542-5551e9ee89c5"
      },
      "outputs": [
        {
          "output_type": "stream",
          "name": "stdout",
          "text": [
            "Mounted at /content/drive\n"
          ]
        }
      ],
      "source": [
        "from google.colab import drive\n",
        "drive.mount('/content/drive')"
      ]
    },
    {
      "cell_type": "code",
      "execution_count": 3,
      "metadata": {
        "colab": {
          "base_uri": "https://localhost:8080/"
        },
        "id": "zsTkPbKTSBst",
        "outputId": "9ffcd723-25cb-4cb8-91be-7f436135dfd3"
      },
      "outputs": [
        {
          "output_type": "stream",
          "name": "stdout",
          "text": [
            "/content/drive/MyDrive/rain_dataset/weatherAUS.csv.zip\n"
          ]
        }
      ],
      "source": [
        "for dirname, _, filenames in os.walk('/content/drive/MyDrive/rain_dataset'):\n",
        "    for filename in filenames:\n",
        "        print(os.path.join(dirname, filename))"
      ]
    },
    {
      "cell_type": "markdown",
      "metadata": {
        "id": "6v1Y3BJmSBs-"
      },
      "source": [
        "\n",
        "# LOADING DATA"
      ]
    },
    {
      "cell_type": "code",
      "execution_count": 4,
      "metadata": {
        "colab": {
          "base_uri": "https://localhost:8080/",
          "height": 300
        },
        "id": "fyEIjcjrSBs_",
        "outputId": "e0ba43d3-6df9-467d-ccdb-e66bf3bd4632"
      },
      "outputs": [
        {
          "output_type": "execute_result",
          "data": {
            "text/plain": [
              "         Date Location  MinTemp  MaxTemp  Rainfall  Evaporation  Sunshine  \\\n",
              "0  2008-12-01   Albury     13.4     22.9       0.6          NaN       NaN   \n",
              "1  2008-12-02   Albury      7.4     25.1       0.0          NaN       NaN   \n",
              "2  2008-12-03   Albury     12.9     25.7       0.0          NaN       NaN   \n",
              "3  2008-12-04   Albury      9.2     28.0       0.0          NaN       NaN   \n",
              "4  2008-12-05   Albury     17.5     32.3       1.0          NaN       NaN   \n",
              "\n",
              "  WindGustDir  WindGustSpeed WindDir9am  ... Humidity9am  Humidity3pm  \\\n",
              "0           W           44.0          W  ...        71.0         22.0   \n",
              "1         WNW           44.0        NNW  ...        44.0         25.0   \n",
              "2         WSW           46.0          W  ...        38.0         30.0   \n",
              "3          NE           24.0         SE  ...        45.0         16.0   \n",
              "4           W           41.0        ENE  ...        82.0         33.0   \n",
              "\n",
              "   Pressure9am  Pressure3pm  Cloud9am  Cloud3pm  Temp9am  Temp3pm  RainToday  \\\n",
              "0       1007.7       1007.1       8.0       NaN     16.9     21.8         No   \n",
              "1       1010.6       1007.8       NaN       NaN     17.2     24.3         No   \n",
              "2       1007.6       1008.7       NaN       2.0     21.0     23.2         No   \n",
              "3       1017.6       1012.8       NaN       NaN     18.1     26.5         No   \n",
              "4       1010.8       1006.0       7.0       8.0     17.8     29.7         No   \n",
              "\n",
              "   RainTomorrow  \n",
              "0            No  \n",
              "1            No  \n",
              "2            No  \n",
              "3            No  \n",
              "4            No  \n",
              "\n",
              "[5 rows x 23 columns]"
            ],
            "text/html": [
              "\n",
              "  <div id=\"df-186f05c6-20cb-4f97-8ff1-08a7224a3fc3\">\n",
              "    <div class=\"colab-df-container\">\n",
              "      <div>\n",
              "<style scoped>\n",
              "    .dataframe tbody tr th:only-of-type {\n",
              "        vertical-align: middle;\n",
              "    }\n",
              "\n",
              "    .dataframe tbody tr th {\n",
              "        vertical-align: top;\n",
              "    }\n",
              "\n",
              "    .dataframe thead th {\n",
              "        text-align: right;\n",
              "    }\n",
              "</style>\n",
              "<table border=\"1\" class=\"dataframe\">\n",
              "  <thead>\n",
              "    <tr style=\"text-align: right;\">\n",
              "      <th></th>\n",
              "      <th>Date</th>\n",
              "      <th>Location</th>\n",
              "      <th>MinTemp</th>\n",
              "      <th>MaxTemp</th>\n",
              "      <th>Rainfall</th>\n",
              "      <th>Evaporation</th>\n",
              "      <th>Sunshine</th>\n",
              "      <th>WindGustDir</th>\n",
              "      <th>WindGustSpeed</th>\n",
              "      <th>WindDir9am</th>\n",
              "      <th>...</th>\n",
              "      <th>Humidity9am</th>\n",
              "      <th>Humidity3pm</th>\n",
              "      <th>Pressure9am</th>\n",
              "      <th>Pressure3pm</th>\n",
              "      <th>Cloud9am</th>\n",
              "      <th>Cloud3pm</th>\n",
              "      <th>Temp9am</th>\n",
              "      <th>Temp3pm</th>\n",
              "      <th>RainToday</th>\n",
              "      <th>RainTomorrow</th>\n",
              "    </tr>\n",
              "  </thead>\n",
              "  <tbody>\n",
              "    <tr>\n",
              "      <th>0</th>\n",
              "      <td>2008-12-01</td>\n",
              "      <td>Albury</td>\n",
              "      <td>13.4</td>\n",
              "      <td>22.9</td>\n",
              "      <td>0.6</td>\n",
              "      <td>NaN</td>\n",
              "      <td>NaN</td>\n",
              "      <td>W</td>\n",
              "      <td>44.0</td>\n",
              "      <td>W</td>\n",
              "      <td>...</td>\n",
              "      <td>71.0</td>\n",
              "      <td>22.0</td>\n",
              "      <td>1007.7</td>\n",
              "      <td>1007.1</td>\n",
              "      <td>8.0</td>\n",
              "      <td>NaN</td>\n",
              "      <td>16.9</td>\n",
              "      <td>21.8</td>\n",
              "      <td>No</td>\n",
              "      <td>No</td>\n",
              "    </tr>\n",
              "    <tr>\n",
              "      <th>1</th>\n",
              "      <td>2008-12-02</td>\n",
              "      <td>Albury</td>\n",
              "      <td>7.4</td>\n",
              "      <td>25.1</td>\n",
              "      <td>0.0</td>\n",
              "      <td>NaN</td>\n",
              "      <td>NaN</td>\n",
              "      <td>WNW</td>\n",
              "      <td>44.0</td>\n",
              "      <td>NNW</td>\n",
              "      <td>...</td>\n",
              "      <td>44.0</td>\n",
              "      <td>25.0</td>\n",
              "      <td>1010.6</td>\n",
              "      <td>1007.8</td>\n",
              "      <td>NaN</td>\n",
              "      <td>NaN</td>\n",
              "      <td>17.2</td>\n",
              "      <td>24.3</td>\n",
              "      <td>No</td>\n",
              "      <td>No</td>\n",
              "    </tr>\n",
              "    <tr>\n",
              "      <th>2</th>\n",
              "      <td>2008-12-03</td>\n",
              "      <td>Albury</td>\n",
              "      <td>12.9</td>\n",
              "      <td>25.7</td>\n",
              "      <td>0.0</td>\n",
              "      <td>NaN</td>\n",
              "      <td>NaN</td>\n",
              "      <td>WSW</td>\n",
              "      <td>46.0</td>\n",
              "      <td>W</td>\n",
              "      <td>...</td>\n",
              "      <td>38.0</td>\n",
              "      <td>30.0</td>\n",
              "      <td>1007.6</td>\n",
              "      <td>1008.7</td>\n",
              "      <td>NaN</td>\n",
              "      <td>2.0</td>\n",
              "      <td>21.0</td>\n",
              "      <td>23.2</td>\n",
              "      <td>No</td>\n",
              "      <td>No</td>\n",
              "    </tr>\n",
              "    <tr>\n",
              "      <th>3</th>\n",
              "      <td>2008-12-04</td>\n",
              "      <td>Albury</td>\n",
              "      <td>9.2</td>\n",
              "      <td>28.0</td>\n",
              "      <td>0.0</td>\n",
              "      <td>NaN</td>\n",
              "      <td>NaN</td>\n",
              "      <td>NE</td>\n",
              "      <td>24.0</td>\n",
              "      <td>SE</td>\n",
              "      <td>...</td>\n",
              "      <td>45.0</td>\n",
              "      <td>16.0</td>\n",
              "      <td>1017.6</td>\n",
              "      <td>1012.8</td>\n",
              "      <td>NaN</td>\n",
              "      <td>NaN</td>\n",
              "      <td>18.1</td>\n",
              "      <td>26.5</td>\n",
              "      <td>No</td>\n",
              "      <td>No</td>\n",
              "    </tr>\n",
              "    <tr>\n",
              "      <th>4</th>\n",
              "      <td>2008-12-05</td>\n",
              "      <td>Albury</td>\n",
              "      <td>17.5</td>\n",
              "      <td>32.3</td>\n",
              "      <td>1.0</td>\n",
              "      <td>NaN</td>\n",
              "      <td>NaN</td>\n",
              "      <td>W</td>\n",
              "      <td>41.0</td>\n",
              "      <td>ENE</td>\n",
              "      <td>...</td>\n",
              "      <td>82.0</td>\n",
              "      <td>33.0</td>\n",
              "      <td>1010.8</td>\n",
              "      <td>1006.0</td>\n",
              "      <td>7.0</td>\n",
              "      <td>8.0</td>\n",
              "      <td>17.8</td>\n",
              "      <td>29.7</td>\n",
              "      <td>No</td>\n",
              "      <td>No</td>\n",
              "    </tr>\n",
              "  </tbody>\n",
              "</table>\n",
              "<p>5 rows × 23 columns</p>\n",
              "</div>\n",
              "      <button class=\"colab-df-convert\" onclick=\"convertToInteractive('df-186f05c6-20cb-4f97-8ff1-08a7224a3fc3')\"\n",
              "              title=\"Convert this dataframe to an interactive table.\"\n",
              "              style=\"display:none;\">\n",
              "        \n",
              "  <svg xmlns=\"http://www.w3.org/2000/svg\" height=\"24px\"viewBox=\"0 0 24 24\"\n",
              "       width=\"24px\">\n",
              "    <path d=\"M0 0h24v24H0V0z\" fill=\"none\"/>\n",
              "    <path d=\"M18.56 5.44l.94 2.06.94-2.06 2.06-.94-2.06-.94-.94-2.06-.94 2.06-2.06.94zm-11 1L8.5 8.5l.94-2.06 2.06-.94-2.06-.94L8.5 2.5l-.94 2.06-2.06.94zm10 10l.94 2.06.94-2.06 2.06-.94-2.06-.94-.94-2.06-.94 2.06-2.06.94z\"/><path d=\"M17.41 7.96l-1.37-1.37c-.4-.4-.92-.59-1.43-.59-.52 0-1.04.2-1.43.59L10.3 9.45l-7.72 7.72c-.78.78-.78 2.05 0 2.83L4 21.41c.39.39.9.59 1.41.59.51 0 1.02-.2 1.41-.59l7.78-7.78 2.81-2.81c.8-.78.8-2.07 0-2.86zM5.41 20L4 18.59l7.72-7.72 1.47 1.35L5.41 20z\"/>\n",
              "  </svg>\n",
              "      </button>\n",
              "      \n",
              "  <style>\n",
              "    .colab-df-container {\n",
              "      display:flex;\n",
              "      flex-wrap:wrap;\n",
              "      gap: 12px;\n",
              "    }\n",
              "\n",
              "    .colab-df-convert {\n",
              "      background-color: #E8F0FE;\n",
              "      border: none;\n",
              "      border-radius: 50%;\n",
              "      cursor: pointer;\n",
              "      display: none;\n",
              "      fill: #1967D2;\n",
              "      height: 32px;\n",
              "      padding: 0 0 0 0;\n",
              "      width: 32px;\n",
              "    }\n",
              "\n",
              "    .colab-df-convert:hover {\n",
              "      background-color: #E2EBFA;\n",
              "      box-shadow: 0px 1px 2px rgba(60, 64, 67, 0.3), 0px 1px 3px 1px rgba(60, 64, 67, 0.15);\n",
              "      fill: #174EA6;\n",
              "    }\n",
              "\n",
              "    [theme=dark] .colab-df-convert {\n",
              "      background-color: #3B4455;\n",
              "      fill: #D2E3FC;\n",
              "    }\n",
              "\n",
              "    [theme=dark] .colab-df-convert:hover {\n",
              "      background-color: #434B5C;\n",
              "      box-shadow: 0px 1px 3px 1px rgba(0, 0, 0, 0.15);\n",
              "      filter: drop-shadow(0px 1px 2px rgba(0, 0, 0, 0.3));\n",
              "      fill: #FFFFFF;\n",
              "    }\n",
              "  </style>\n",
              "\n",
              "      <script>\n",
              "        const buttonEl =\n",
              "          document.querySelector('#df-186f05c6-20cb-4f97-8ff1-08a7224a3fc3 button.colab-df-convert');\n",
              "        buttonEl.style.display =\n",
              "          google.colab.kernel.accessAllowed ? 'block' : 'none';\n",
              "\n",
              "        async function convertToInteractive(key) {\n",
              "          const element = document.querySelector('#df-186f05c6-20cb-4f97-8ff1-08a7224a3fc3');\n",
              "          const dataTable =\n",
              "            await google.colab.kernel.invokeFunction('convertToInteractive',\n",
              "                                                     [key], {});\n",
              "          if (!dataTable) return;\n",
              "\n",
              "          const docLinkHtml = 'Like what you see? Visit the ' +\n",
              "            '<a target=\"_blank\" href=https://colab.research.google.com/notebooks/data_table.ipynb>data table notebook</a>'\n",
              "            + ' to learn more about interactive tables.';\n",
              "          element.innerHTML = '';\n",
              "          dataTable['output_type'] = 'display_data';\n",
              "          await google.colab.output.renderOutput(dataTable, element);\n",
              "          const docLink = document.createElement('div');\n",
              "          docLink.innerHTML = docLinkHtml;\n",
              "          element.appendChild(docLink);\n",
              "        }\n",
              "      </script>\n",
              "    </div>\n",
              "  </div>\n",
              "  "
            ]
          },
          "metadata": {},
          "execution_count": 4
        }
      ],
      "source": [
        "data = pd.read_csv(\"/content/drive/MyDrive/rain_dataset/weatherAUS.csv.zip\")\n",
        "data.head()"
      ]
    },
    {
      "cell_type": "markdown",
      "metadata": {
        "id": "UzhI8r7ASBtB"
      },
      "source": [
        "**About the data:**\n",
        "\n",
        "The dataset contains about 10 years of daily weather observations from different locations across Australia. Observations were drawn from numerous weather stations. \n",
        "\n",
        "In this project, I will use this data to predict whether or not it will rain the next day. There are 23 attributes including the target variable \"RainTomorrow\", indicating whether or not it will rain the next day or not. "
      ]
    },
    {
      "cell_type": "code",
      "execution_count": 5,
      "metadata": {
        "colab": {
          "base_uri": "https://localhost:8080/"
        },
        "id": "2rONS84TSBtC",
        "outputId": "9fbd2640-70d1-4ffc-e528-b8a5159c7e81"
      },
      "outputs": [
        {
          "output_type": "stream",
          "name": "stdout",
          "text": [
            "<class 'pandas.core.frame.DataFrame'>\n",
            "RangeIndex: 145460 entries, 0 to 145459\n",
            "Data columns (total 23 columns):\n",
            " #   Column         Non-Null Count   Dtype  \n",
            "---  ------         --------------   -----  \n",
            " 0   Date           145460 non-null  object \n",
            " 1   Location       145460 non-null  object \n",
            " 2   MinTemp        143975 non-null  float64\n",
            " 3   MaxTemp        144199 non-null  float64\n",
            " 4   Rainfall       142199 non-null  float64\n",
            " 5   Evaporation    82670 non-null   float64\n",
            " 6   Sunshine       75625 non-null   float64\n",
            " 7   WindGustDir    135134 non-null  object \n",
            " 8   WindGustSpeed  135197 non-null  float64\n",
            " 9   WindDir9am     134894 non-null  object \n",
            " 10  WindDir3pm     141232 non-null  object \n",
            " 11  WindSpeed9am   143693 non-null  float64\n",
            " 12  WindSpeed3pm   142398 non-null  float64\n",
            " 13  Humidity9am    142806 non-null  float64\n",
            " 14  Humidity3pm    140953 non-null  float64\n",
            " 15  Pressure9am    130395 non-null  float64\n",
            " 16  Pressure3pm    130432 non-null  float64\n",
            " 17  Cloud9am       89572 non-null   float64\n",
            " 18  Cloud3pm       86102 non-null   float64\n",
            " 19  Temp9am        143693 non-null  float64\n",
            " 20  Temp3pm        141851 non-null  float64\n",
            " 21  RainToday      142199 non-null  object \n",
            " 22  RainTomorrow   142193 non-null  object \n",
            "dtypes: float64(16), object(7)\n",
            "memory usage: 25.5+ MB\n"
          ]
        }
      ],
      "source": [
        "data.info()"
      ]
    },
    {
      "cell_type": "code",
      "execution_count": 6,
      "metadata": {
        "colab": {
          "base_uri": "https://localhost:8080/"
        },
        "id": "FgI9rO-X4Ht8",
        "outputId": "293275ba-9032-4ad5-e27c-9161a1070ca3"
      },
      "outputs": [
        {
          "output_type": "execute_result",
          "data": {
            "text/plain": [
              "(145460, 23)"
            ]
          },
          "metadata": {},
          "execution_count": 6
        }
      ],
      "source": [
        "data.shape"
      ]
    },
    {
      "cell_type": "markdown",
      "metadata": {
        "id": "M8gz8vnfSBtD"
      },
      "source": [
        "**Points to notice:**\n",
        "\n",
        "* There are missing values in the dataset\n",
        "* Dataset includes numeric and categorical values \n",
        "\n",
        "<a id=\"3\"></a>\n",
        " <h2 style='background:#C2C4E2; border:0; color:black'><center>DATA VISUALIZATION AND CLEANING</center></h2> \n",
        " \n",
        "# DATA VISUALIZATION AND CLEANING\n",
        "\n",
        "**Steps involves in this section:**\n",
        "\n",
        "* Count plot of target column \n",
        "* Correlation amongst numeric attributes\n",
        "* Parse Dates into datetime\n",
        "* Encoding days and months as continuous cyclic features\n"
      ]
    },
    {
      "cell_type": "code",
      "source": [
        "cmap = sns.diverging_palette(260,-10,s=50, l=75, n=6, as_cmap=True)"
      ],
      "metadata": {
        "id": "Jkjo2yFQfLKf"
      },
      "execution_count": null,
      "outputs": []
    },
    {
      "cell_type": "code",
      "execution_count": 7,
      "metadata": {
        "colab": {
          "base_uri": "https://localhost:8080/",
          "height": 297
        },
        "id": "hxPVWartSBtE",
        "outputId": "a39d789e-f6ea-4a07-c142-3c77cbbbbec7"
      },
      "outputs": [
        {
          "output_type": "execute_result",
          "data": {
            "text/plain": [
              "<matplotlib.axes._subplots.AxesSubplot at 0x7f83f71cabd0>"
            ]
          },
          "metadata": {},
          "execution_count": 7
        },
        {
          "output_type": "display_data",
          "data": {
            "text/plain": [
              "<Figure size 432x288 with 1 Axes>"
            ],
            "image/png": "[encoded data removed]"
          },
          "metadata": {
            "needs_background": "light"
          }
        }
      ],
      "source": [
        "#first of all let us evaluate the target and find out if our data is imbalanced or not\n",
        "cols= [\"#C2C4E2\",\"#EED4E5\"]\n",
        "sns.countplot(x= data[\"RainTomorrow\"], palette= cols)"
      ]
    },
    {
      "cell_type": "code",
      "execution_count": 8,
      "metadata": {
        "colab": {
          "base_uri": "https://localhost:8080/",
          "height": 879
        },
        "id": "UuMOmHhe4-zH",
        "outputId": "97a23dac-bae0-4d00-f0e3-cbee690557a7"
      },
      "outputs": [
        {
          "output_type": "display_data",
          "data": {
            "text/plain": [
              "<Figure size 1440x1080 with 16 Axes>"
            ],
            "image/png": "[encoded data removed]"
          },
          "metadata": {
            "needs_background": "light"
          }
        }
      ],
      "source": [
        "data.hist(bins=50, figsize=(20,15),color = \"skyblue\")\n",
        "plt.show()"
      ]
    },
    {
      "cell_type": "code",
      "execution_count": 9,
      "metadata": {
        "colab": {
          "base_uri": "https://localhost:8080/",
          "height": 734
        },
        "id": "Jo3SpA45_A08",
        "outputId": "9137adb1-f4f3-4007-c433-9a5cf1098d89"
      },
      "outputs": [
        {
          "output_type": "execute_result",
          "data": {
            "text/plain": [
              "<matplotlib.axes._subplots.AxesSubplot at 0x7f8385e1f7d0>"
            ]
          },
          "metadata": {},
          "execution_count": 9
        },
        {
          "output_type": "display_data",
          "data": {
            "text/plain": [
              "<Figure size 864x864 with 2 Axes>"
            ],
            "image/png": "[encoded data removed]"
          },
          "metadata": {
            "needs_background": "light"
          }
        }
      ],
      "source": [
        "corr = data.corr()\n",
        "#print(corr)\n",
        "plt.subplots(figsize=(12,12))\n",
        "sns.heatmap(corr, cmap = cmap,\n",
        "         xticklabels=corr.columns, \n",
        "         yticklabels=corr.columns,\n",
        "         annot=True, square=True)"
      ]
    },
    {
      "cell_type": "markdown",
      "metadata": {
        "id": "VNQxWHdrSBtJ"
      },
      "source": [
        "**Now I will parse Dates into datetime.**\n",
        "\n",
        "My goal is to build an artificial neural network(ANN). I will encode dates appropriately, i.e. I prefer the months and days in a cyclic continuous feature. As, date and time are inherently cyclical. To let the ANN model know that a feature is cyclical I split it into periodic subsections. Namely, years, months and days. Now for each subsection, I create two new features, deriving a sine transform and cosine transform of the subsection feature. "
      ]
    },
    {
      "cell_type": "code",
      "execution_count": 10,
      "metadata": {
        "colab": {
          "base_uri": "https://localhost:8080/"
        },
        "id": "qO9dbY_xSBtK",
        "outputId": "4bf4f016-a358-45df-bc37-31324846c63d"
      },
      "outputs": [
        {
          "output_type": "execute_result",
          "data": {
            "text/plain": [
              "10    145460\n",
              "Name: Date, dtype: int64"
            ]
          },
          "metadata": {},
          "execution_count": 10
        }
      ],
      "source": [
        "#Parsing datetime\n",
        "#exploring the length of date objects\n",
        "lengths = data[\"Date\"].str.len()\n",
        "lengths.value_counts()"
      ]
    },
    {
      "cell_type": "code",
      "execution_count": 11,
      "metadata": {
        "colab": {
          "base_uri": "https://localhost:8080/",
          "height": 300
        },
        "id": "R7Pjq__sSBtL",
        "outputId": "b4863fec-cc02-418f-cbf3-3077027495ea"
      },
      "outputs": [
        {
          "output_type": "execute_result",
          "data": {
            "text/plain": [
              "        Date Location  MinTemp  MaxTemp  Rainfall  Evaporation  Sunshine  \\\n",
              "0 2008-12-01   Albury     13.4     22.9       0.6          NaN       NaN   \n",
              "1 2008-12-02   Albury      7.4     25.1       0.0          NaN       NaN   \n",
              "2 2008-12-03   Albury     12.9     25.7       0.0          NaN       NaN   \n",
              "3 2008-12-04   Albury      9.2     28.0       0.0          NaN       NaN   \n",
              "4 2008-12-05   Albury     17.5     32.3       1.0          NaN       NaN   \n",
              "\n",
              "  WindGustDir  WindGustSpeed WindDir9am  ... Temp3pm  RainToday  RainTomorrow  \\\n",
              "0           W           44.0          W  ...    21.8         No            No   \n",
              "1         WNW           44.0        NNW  ...    24.3         No            No   \n",
              "2         WSW           46.0          W  ...    23.2         No            No   \n",
              "3          NE           24.0         SE  ...    26.5         No            No   \n",
              "4           W           41.0        ENE  ...    29.7         No            No   \n",
              "\n",
              "   year  month     month_sin  month_cos  day   day_sin   day_cos  \n",
              "0  2008     12 -2.449294e-16        1.0    1  0.201299  0.979530  \n",
              "1  2008     12 -2.449294e-16        1.0    2  0.394356  0.918958  \n",
              "2  2008     12 -2.449294e-16        1.0    3  0.571268  0.820763  \n",
              "3  2008     12 -2.449294e-16        1.0    4  0.724793  0.688967  \n",
              "4  2008     12 -2.449294e-16        1.0    5  0.848644  0.528964  \n",
              "\n",
              "[5 rows x 30 columns]"
            ],
            "text/html": [
              "\n",
              "  <div id=\"df-86833bfa-1a3a-4c31-a16c-d5aa95a77189\">\n",
              "    <div class=\"colab-df-container\">\n",
              "      <div>\n",
              "<style scoped>\n",
              "    .dataframe tbody tr th:only-of-type {\n",
              "        vertical-align: middle;\n",
              "    }\n",
              "\n",
              "    .dataframe tbody tr th {\n",
              "        vertical-align: top;\n",
              "    }\n",
              "\n",
              "    .dataframe thead th {\n",
              "        text-align: right;\n",
              "    }\n",
              "</style>\n",
              "<table border=\"1\" class=\"dataframe\">\n",
              "  <thead>\n",
              "    <tr style=\"text-align: right;\">\n",
              "      <th></th>\n",
              "      <th>Date</th>\n",
              "      <th>Location</th>\n",
              "      <th>MinTemp</th>\n",
              "      <th>MaxTemp</th>\n",
              "      <th>Rainfall</th>\n",
              "      <th>Evaporation</th>\n",
              "      <th>Sunshine</th>\n",
              "      <th>WindGustDir</th>\n",
              "      <th>WindGustSpeed</th>\n",
              "      <th>WindDir9am</th>\n",
              "      <th>...</th>\n",
              "      <th>Temp3pm</th>\n",
              "      <th>RainToday</th>\n",
              "      <th>RainTomorrow</th>\n",
              "      <th>year</th>\n",
              "      <th>month</th>\n",
              "      <th>month_sin</th>\n",
              "      <th>month_cos</th>\n",
              "      <th>day</th>\n",
              "      <th>day_sin</th>\n",
              "      <th>day_cos</th>\n",
              "    </tr>\n",
              "  </thead>\n",
              "  <tbody>\n",
              "    <tr>\n",
              "      <th>0</th>\n",
              "      <td>2008-12-01</td>\n",
              "      <td>Albury</td>\n",
              "      <td>13.4</td>\n",
              "      <td>22.9</td>\n",
              "      <td>0.6</td>\n",
              "      <td>NaN</td>\n",
              "      <td>NaN</td>\n",
              "      <td>W</td>\n",
              "      <td>44.0</td>\n",
              "      <td>W</td>\n",
              "      <td>...</td>\n",
              "      <td>21.8</td>\n",
              "      <td>No</td>\n",
              "      <td>No</td>\n",
              "      <td>2008</td>\n",
              "      <td>12</td>\n",
              "      <td>-2.449294e-16</td>\n",
              "      <td>1.0</td>\n",
              "      <td>1</td>\n",
              "      <td>0.201299</td>\n",
              "      <td>0.979530</td>\n",
              "    </tr>\n",
              "    <tr>\n",
              "      <th>1</th>\n",
              "      <td>2008-12-02</td>\n",
              "      <td>Albury</td>\n",
              "      <td>7.4</td>\n",
              "      <td>25.1</td>\n",
              "      <td>0.0</td>\n",
              "      <td>NaN</td>\n",
              "      <td>NaN</td>\n",
              "      <td>WNW</td>\n",
              "      <td>44.0</td>\n",
              "      <td>NNW</td>\n",
              "      <td>...</td>\n",
              "      <td>24.3</td>\n",
              "      <td>No</td>\n",
              "      <td>No</td>\n",
              "      <td>2008</td>\n",
              "      <td>12</td>\n",
              "      <td>-2.449294e-16</td>\n",
              "      <td>1.0</td>\n",
              "      <td>2</td>\n",
              "      <td>0.394356</td>\n",
              "      <td>0.918958</td>\n",
              "    </tr>\n",
              "    <tr>\n",
              "      <th>2</th>\n",
              "      <td>2008-12-03</td>\n",
              "      <td>Albury</td>\n",
              "      <td>12.9</td>\n",
              "      <td>25.7</td>\n",
              "      <td>0.0</td>\n",
              "      <td>NaN</td>\n",
              "      <td>NaN</td>\n",
              "      <td>WSW</td>\n",
              "      <td>46.0</td>\n",
              "      <td>W</td>\n",
              "      <td>...</td>\n",
              "      <td>23.2</td>\n",
              "      <td>No</td>\n",
              "      <td>No</td>\n",
              "      <td>2008</td>\n",
              "      <td>12</td>\n",
              "      <td>-2.449294e-16</td>\n",
              "      <td>1.0</td>\n",
              "      <td>3</td>\n",
              "      <td>0.571268</td>\n",
              "      <td>0.820763</td>\n",
              "    </tr>\n",
              "    <tr>\n",
              "      <th>3</th>\n",
              "      <td>2008-12-04</td>\n",
              "      <td>Albury</td>\n",
              "      <td>9.2</td>\n",
              "      <td>28.0</td>\n",
              "      <td>0.0</td>\n",
              "      <td>NaN</td>\n",
              "      <td>NaN</td>\n",
              "      <td>NE</td>\n",
              "      <td>24.0</td>\n",
              "      <td>SE</td>\n",
              "      <td>...</td>\n",
              "      <td>26.5</td>\n",
              "      <td>No</td>\n",
              "      <td>No</td>\n",
              "      <td>2008</td>\n",
              "      <td>12</td>\n",
              "      <td>-2.449294e-16</td>\n",
              "      <td>1.0</td>\n",
              "      <td>4</td>\n",
              "      <td>0.724793</td>\n",
              "      <td>0.688967</td>\n",
              "    </tr>\n",
              "    <tr>\n",
              "      <th>4</th>\n",
              "      <td>2008-12-05</td>\n",
              "      <td>Albury</td>\n",
              "      <td>17.5</td>\n",
              "      <td>32.3</td>\n",
              "      <td>1.0</td>\n",
              "      <td>NaN</td>\n",
              "      <td>NaN</td>\n",
              "      <td>W</td>\n",
              "      <td>41.0</td>\n",
              "      <td>ENE</td>\n",
              "      <td>...</td>\n",
              "      <td>29.7</td>\n",
              "      <td>No</td>\n",
              "      <td>No</td>\n",
              "      <td>2008</td>\n",
              "      <td>12</td>\n",
              "      <td>-2.449294e-16</td>\n",
              "      <td>1.0</td>\n",
              "      <td>5</td>\n",
              "      <td>0.848644</td>\n",
              "      <td>0.528964</td>\n",
              "    </tr>\n",
              "  </tbody>\n",
              "</table>\n",
              "<p>5 rows × 30 columns</p>\n",
              "</div>\n",
              "      <button class=\"colab-df-convert\" onclick=\"convertToInteractive('df-86833bfa-1a3a-4c31-a16c-d5aa95a77189')\"\n",
              "              title=\"Convert this dataframe to an interactive table.\"\n",
              "              style=\"display:none;\">\n",
              "        \n",
              "  <svg xmlns=\"http://www.w3.org/2000/svg\" height=\"24px\"viewBox=\"0 0 24 24\"\n",
              "       width=\"24px\">\n",
              "    <path d=\"M0 0h24v24H0V0z\" fill=\"none\"/>\n",
              "    <path d=\"M18.56 5.44l.94 2.06.94-2.06 2.06-.94-2.06-.94-.94-2.06-.94 2.06-2.06.94zm-11 1L8.5 8.5l.94-2.06 2.06-.94-2.06-.94L8.5 2.5l-.94 2.06-2.06.94zm10 10l.94 2.06.94-2.06 2.06-.94-2.06-.94-.94-2.06-.94 2.06-2.06.94z\"/><path d=\"M17.41 7.96l-1.37-1.37c-.4-.4-.92-.59-1.43-.59-.52 0-1.04.2-1.43.59L10.3 9.45l-7.72 7.72c-.78.78-.78 2.05 0 2.83L4 21.41c.39.39.9.59 1.41.59.51 0 1.02-.2 1.41-.59l7.78-7.78 2.81-2.81c.8-.78.8-2.07 0-2.86zM5.41 20L4 18.59l7.72-7.72 1.47 1.35L5.41 20z\"/>\n",
              "  </svg>\n",
              "      </button>\n",
              "      \n",
              "  <style>\n",
              "    .colab-df-container {\n",
              "      display:flex;\n",
              "      flex-wrap:wrap;\n",
              "      gap: 12px;\n",
              "    }\n",
              "\n",
              "    .colab-df-convert {\n",
              "      background-color: #E8F0FE;\n",
              "      border: none;\n",
              "      border-radius: 50%;\n",
              "      cursor: pointer;\n",
              "      display: none;\n",
              "      fill: #1967D2;\n",
              "      height: 32px;\n",
              "      padding: 0 0 0 0;\n",
              "      width: 32px;\n",
              "    }\n",
              "\n",
              "    .colab-df-convert:hover {\n",
              "      background-color: #E2EBFA;\n",
              "      box-shadow: 0px 1px 2px rgba(60, 64, 67, 0.3), 0px 1px 3px 1px rgba(60, 64, 67, 0.15);\n",
              "      fill: #174EA6;\n",
              "    }\n",
              "\n",
              "    [theme=dark] .colab-df-convert {\n",
              "      background-color: #3B4455;\n",
              "      fill: #D2E3FC;\n",
              "    }\n",
              "\n",
              "    [theme=dark] .colab-df-convert:hover {\n",
              "      background-color: #434B5C;\n",
              "      box-shadow: 0px 1px 3px 1px rgba(0, 0, 0, 0.15);\n",
              "      filter: drop-shadow(0px 1px 2px rgba(0, 0, 0, 0.3));\n",
              "      fill: #FFFFFF;\n",
              "    }\n",
              "  </style>\n",
              "\n",
              "      <script>\n",
              "        const buttonEl =\n",
              "          document.querySelector('#df-86833bfa-1a3a-4c31-a16c-d5aa95a77189 button.colab-df-convert');\n",
              "        buttonEl.style.display =\n",
              "          google.colab.kernel.accessAllowed ? 'block' : 'none';\n",
              "\n",
              "        async function convertToInteractive(key) {\n",
              "          const element = document.querySelector('#df-86833bfa-1a3a-4c31-a16c-d5aa95a77189');\n",
              "          const dataTable =\n",
              "            await google.colab.kernel.invokeFunction('convertToInteractive',\n",
              "                                                     [key], {});\n",
              "          if (!dataTable) return;\n",
              "\n",
              "          const docLinkHtml = 'Like what you see? Visit the ' +\n",
              "            '<a target=\"_blank\" href=https://colab.research.google.com/notebooks/data_table.ipynb>data table notebook</a>'\n",
              "            + ' to learn more about interactive tables.';\n",
              "          element.innerHTML = '';\n",
              "          dataTable['output_type'] = 'display_data';\n",
              "          await google.colab.output.renderOutput(dataTable, element);\n",
              "          const docLink = document.createElement('div');\n",
              "          docLink.innerHTML = docLinkHtml;\n",
              "          element.appendChild(docLink);\n",
              "        }\n",
              "      </script>\n",
              "    </div>\n",
              "  </div>\n",
              "  "
            ]
          },
          "metadata": {},
          "execution_count": 11
        }
      ],
      "source": [
        "\n",
        "data['Date']= pd.to_datetime(data[\"Date\"])\n",
        "#Creating a collumn of year\n",
        "data['year'] = data.Date.dt.year\n",
        "\n",
        "# function to encode datetime into cyclic parameters. \n",
        "#As I am planning to use this data in a neural network I prefer the months and days in a cyclic continuous feature. \n",
        "\n",
        "def encode(data, col, max_val):\n",
        "    data[col + '_sin'] = np.sin(2 * np.pi * data[col]/max_val)\n",
        "    data[col + '_cos'] = np.cos(2 * np.pi * data[col]/max_val)\n",
        "    return data\n",
        "\n",
        "data['month'] = data.Date.dt.month\n",
        "data = encode(data, 'month', 12)\n",
        "\n",
        "data['day'] = data.Date.dt.day\n",
        "data = encode(data, 'day', 31)\n",
        "\n",
        "data.head()"
      ]
    },
    {
      "cell_type": "markdown",
      "metadata": {
        "id": "dLgCW4IxSBtN"
      },
      "source": [
        "As expected, the \"year\" attribute of data repeats. However in this for the true cyclic nature is not presented in a continuous manner. Splitting months and days into Sine and cosine combination provides the cyclical continuous feature. This can be used as input features to ANN. "
      ]
    },
    {
      "cell_type": "code",
      "execution_count": 12,
      "metadata": {
        "colab": {
          "base_uri": "https://localhost:8080/",
          "height": 313
        },
        "id": "woD1GIchSBtN",
        "outputId": "55776e21-953e-4f37-b463-b575e4bc7796"
      },
      "outputs": [
        {
          "output_type": "execute_result",
          "data": {
            "text/plain": [
              "Text(0.5, 0, 'Sine Encoded Months')"
            ]
          },
          "metadata": {},
          "execution_count": 12
        },
        {
          "output_type": "display_data",
          "data": {
            "text/plain": [
              "<Figure size 432x288 with 1 Axes>"
            ],
            "image/png": "[encoded data removed]"
          },
          "metadata": {
            "needs_background": "light"
          }
        }
      ],
      "source": [
        "cyclic_month = sns.scatterplot(x=\"month_sin\",y=\"month_cos\",data=data, color=\"#C2C4E2\")\n",
        "cyclic_month.set_title(\"Cyclic Encoding of Month\")\n",
        "cyclic_month.set_ylabel(\"Cosine Encoded Months\")\n",
        "cyclic_month.set_xlabel(\"Sine Encoded Months\")\n"
      ]
    },
    {
      "cell_type": "code",
      "execution_count": 13,
      "metadata": {
        "colab": {
          "base_uri": "https://localhost:8080/",
          "height": 313
        },
        "id": "Tw_aIsAzSBtO",
        "outputId": "9bad6339-3cd8-4fea-dee6-b07a612c7482"
      },
      "outputs": [
        {
          "output_type": "execute_result",
          "data": {
            "text/plain": [
              "Text(0.5, 0, 'Sine Encoded Day')"
            ]
          },
          "metadata": {},
          "execution_count": 13
        },
        {
          "output_type": "display_data",
          "data": {
            "text/plain": [
              "<Figure size 432x288 with 1 Axes>"
            ],
            "image/png": "[encoded data removed]"
          },
          "metadata": {
            "needs_background": "light"
          }
        }
      ],
      "source": [
        "cyclic_day = sns.scatterplot(x='day_sin',y='day_cos',data=data, color=\"#C2C4E2\")\n",
        "cyclic_day.set_title(\"Cyclic Encoding of Day\")\n",
        "cyclic_day.set_ylabel(\"Cosine Encoded Day\")\n",
        "cyclic_day.set_xlabel(\"Sine Encoded Day\")"
      ]
    },
    {
      "cell_type": "markdown",
      "metadata": {
        "id": "cPSDir7cSBtP"
      },
      "source": [
        "Next, I will deal with missing values in categorical and numeric attributes separately"
      ]
    },
    {
      "cell_type": "markdown",
      "metadata": {
        "id": "tEQjuQR_SBtQ"
      },
      "source": [
        "**Categorical variables**\n",
        "\n",
        "* Filling missing values with mode of the column value"
      ]
    },
    {
      "cell_type": "code",
      "execution_count": 14,
      "metadata": {
        "colab": {
          "base_uri": "https://localhost:8080/"
        },
        "id": "1MU2nawNSBtQ",
        "outputId": "a3c16012-5235-4f50-bbe1-db8ef72f398d"
      },
      "outputs": [
        {
          "output_type": "stream",
          "name": "stdout",
          "text": [
            "Categorical variables:\n",
            "['Location', 'WindGustDir', 'WindDir9am', 'WindDir3pm', 'RainToday', 'RainTomorrow']\n"
          ]
        }
      ],
      "source": [
        "# Get list of categorical variables\n",
        "s = (data.dtypes == \"object\")\n",
        "object_cols = list(s[s].index)\n",
        "\n",
        "print(\"Categorical variables:\")\n",
        "print(object_cols)"
      ]
    },
    {
      "cell_type": "code",
      "execution_count": 15,
      "metadata": {
        "colab": {
          "base_uri": "https://localhost:8080/"
        },
        "id": "axrHoGgkSBtR",
        "outputId": "f9422526-8283-4efa-eb60-66d8085a6942"
      },
      "outputs": [
        {
          "output_type": "stream",
          "name": "stdout",
          "text": [
            "Location 0\n",
            "WindGustDir 10326\n",
            "WindDir9am 10566\n",
            "WindDir3pm 4228\n",
            "RainToday 3261\n",
            "RainTomorrow 3267\n"
          ]
        }
      ],
      "source": [
        "# Missing values in categorical variables\n",
        "\n",
        "for i in object_cols:\n",
        "    print(i, data[i].isnull().sum())"
      ]
    },
    {
      "cell_type": "code",
      "execution_count": 16,
      "metadata": {
        "id": "ci3RFz1MSBtR"
      },
      "outputs": [],
      "source": [
        "# Filling missing values with mode of the column in value\n",
        "\n",
        "for i in object_cols:\n",
        "    data[i].fillna(data[i].mode()[0], inplace=True)"
      ]
    },
    {
      "cell_type": "code",
      "execution_count": 17,
      "metadata": {
        "colab": {
          "base_uri": "https://localhost:8080/",
          "height": 300
        },
        "id": "ci2aKe02UeCa",
        "outputId": "e87ce519-230a-4b72-c194-7b0c7c93e8fe"
      },
      "outputs": [
        {
          "output_type": "execute_result",
          "data": {
            "text/plain": [
              "        Date Location  MinTemp  MaxTemp  Rainfall  Evaporation  Sunshine  \\\n",
              "0 2008-12-01   Albury     13.4     22.9       0.6          NaN       NaN   \n",
              "1 2008-12-02   Albury      7.4     25.1       0.0          NaN       NaN   \n",
              "2 2008-12-03   Albury     12.9     25.7       0.0          NaN       NaN   \n",
              "3 2008-12-04   Albury      9.2     28.0       0.0          NaN       NaN   \n",
              "4 2008-12-05   Albury     17.5     32.3       1.0          NaN       NaN   \n",
              "\n",
              "  WindGustDir  WindGustSpeed WindDir9am  ... Temp3pm  RainToday  RainTomorrow  \\\n",
              "0           W           44.0          W  ...    21.8         No            No   \n",
              "1         WNW           44.0        NNW  ...    24.3         No            No   \n",
              "2         WSW           46.0          W  ...    23.2         No            No   \n",
              "3          NE           24.0         SE  ...    26.5         No            No   \n",
              "4           W           41.0        ENE  ...    29.7         No            No   \n",
              "\n",
              "   year  month     month_sin  month_cos  day   day_sin   day_cos  \n",
              "0  2008     12 -2.449294e-16        1.0    1  0.201299  0.979530  \n",
              "1  2008     12 -2.449294e-16        1.0    2  0.394356  0.918958  \n",
              "2  2008     12 -2.449294e-16        1.0    3  0.571268  0.820763  \n",
              "3  2008     12 -2.449294e-16        1.0    4  0.724793  0.688967  \n",
              "4  2008     12 -2.449294e-16        1.0    5  0.848644  0.528964  \n",
              "\n",
              "[5 rows x 30 columns]"
            ],
            "text/html": [
              "\n",
              "  <div id=\"df-062de839-0d18-42b5-bbb1-8cc8e0c9d898\">\n",
              "    <div class=\"colab-df-container\">\n",
              "      <div>\n",
              "<style scoped>\n",
              "    .dataframe tbody tr th:only-of-type {\n",
              "        vertical-align: middle;\n",
              "    }\n",
              "\n",
              "    .dataframe tbody tr th {\n",
              "        vertical-align: top;\n",
              "    }\n",
              "\n",
              "    .dataframe thead th {\n",
              "        text-align: right;\n",
              "    }\n",
              "</style>\n",
              "<table border=\"1\" class=\"dataframe\">\n",
              "  <thead>\n",
              "    <tr style=\"text-align: right;\">\n",
              "      <th></th>\n",
              "      <th>Date</th>\n",
              "      <th>Location</th>\n",
              "      <th>MinTemp</th>\n",
              "      <th>MaxTemp</th>\n",
              "      <th>Rainfall</th>\n",
              "      <th>Evaporation</th>\n",
              "      <th>Sunshine</th>\n",
              "      <th>WindGustDir</th>\n",
              "      <th>WindGustSpeed</th>\n",
              "      <th>WindDir9am</th>\n",
              "      <th>...</th>\n",
              "      <th>Temp3pm</th>\n",
              "      <th>RainToday</th>\n",
              "      <th>RainTomorrow</th>\n",
              "      <th>year</th>\n",
              "      <th>month</th>\n",
              "      <th>month_sin</th>\n",
              "      <th>month_cos</th>\n",
              "      <th>day</th>\n",
              "      <th>day_sin</th>\n",
              "      <th>day_cos</th>\n",
              "    </tr>\n",
              "  </thead>\n",
              "  <tbody>\n",
              "    <tr>\n",
              "      <th>0</th>\n",
              "      <td>2008-12-01</td>\n",
              "      <td>Albury</td>\n",
              "      <td>13.4</td>\n",
              "      <td>22.9</td>\n",
              "      <td>0.6</td>\n",
              "      <td>NaN</td>\n",
              "      <td>NaN</td>\n",
              "      <td>W</td>\n",
              "      <td>44.0</td>\n",
              "      <td>W</td>\n",
              "      <td>...</td>\n",
              "      <td>21.8</td>\n",
              "      <td>No</td>\n",
              "      <td>No</td>\n",
              "      <td>2008</td>\n",
              "      <td>12</td>\n",
              "      <td>-2.449294e-16</td>\n",
              "      <td>1.0</td>\n",
              "      <td>1</td>\n",
              "      <td>0.201299</td>\n",
              "      <td>0.979530</td>\n",
              "    </tr>\n",
              "    <tr>\n",
              "      <th>1</th>\n",
              "      <td>2008-12-02</td>\n",
              "      <td>Albury</td>\n",
              "      <td>7.4</td>\n",
              "      <td>25.1</td>\n",
              "      <td>0.0</td>\n",
              "      <td>NaN</td>\n",
              "      <td>NaN</td>\n",
              "      <td>WNW</td>\n",
              "      <td>44.0</td>\n",
              "      <td>NNW</td>\n",
              "      <td>...</td>\n",
              "      <td>24.3</td>\n",
              "      <td>No</td>\n",
              "      <td>No</td>\n",
              "      <td>2008</td>\n",
              "      <td>12</td>\n",
              "      <td>-2.449294e-16</td>\n",
              "      <td>1.0</td>\n",
              "      <td>2</td>\n",
              "      <td>0.394356</td>\n",
              "      <td>0.918958</td>\n",
              "    </tr>\n",
              "    <tr>\n",
              "      <th>2</th>\n",
              "      <td>2008-12-03</td>\n",
              "      <td>Albury</td>\n",
              "      <td>12.9</td>\n",
              "      <td>25.7</td>\n",
              "      <td>0.0</td>\n",
              "      <td>NaN</td>\n",
              "      <td>NaN</td>\n",
              "      <td>WSW</td>\n",
              "      <td>46.0</td>\n",
              "      <td>W</td>\n",
              "      <td>...</td>\n",
              "      <td>23.2</td>\n",
              "      <td>No</td>\n",
              "      <td>No</td>\n",
              "      <td>2008</td>\n",
              "      <td>12</td>\n",
              "      <td>-2.449294e-16</td>\n",
              "      <td>1.0</td>\n",
              "      <td>3</td>\n",
              "      <td>0.571268</td>\n",
              "      <td>0.820763</td>\n",
              "    </tr>\n",
              "    <tr>\n",
              "      <th>3</th>\n",
              "      <td>2008-12-04</td>\n",
              "      <td>Albury</td>\n",
              "      <td>9.2</td>\n",
              "      <td>28.0</td>\n",
              "      <td>0.0</td>\n",
              "      <td>NaN</td>\n",
              "      <td>NaN</td>\n",
              "      <td>NE</td>\n",
              "      <td>24.0</td>\n",
              "      <td>SE</td>\n",
              "      <td>...</td>\n",
              "      <td>26.5</td>\n",
              "      <td>No</td>\n",
              "      <td>No</td>\n",
              "      <td>2008</td>\n",
              "      <td>12</td>\n",
              "      <td>-2.449294e-16</td>\n",
              "      <td>1.0</td>\n",
              "      <td>4</td>\n",
              "      <td>0.724793</td>\n",
              "      <td>0.688967</td>\n",
              "    </tr>\n",
              "    <tr>\n",
              "      <th>4</th>\n",
              "      <td>2008-12-05</td>\n",
              "      <td>Albury</td>\n",
              "      <td>17.5</td>\n",
              "      <td>32.3</td>\n",
              "      <td>1.0</td>\n",
              "      <td>NaN</td>\n",
              "      <td>NaN</td>\n",
              "      <td>W</td>\n",
              "      <td>41.0</td>\n",
              "      <td>ENE</td>\n",
              "      <td>...</td>\n",
              "      <td>29.7</td>\n",
              "      <td>No</td>\n",
              "      <td>No</td>\n",
              "      <td>2008</td>\n",
              "      <td>12</td>\n",
              "      <td>-2.449294e-16</td>\n",
              "      <td>1.0</td>\n",
              "      <td>5</td>\n",
              "      <td>0.848644</td>\n",
              "      <td>0.528964</td>\n",
              "    </tr>\n",
              "  </tbody>\n",
              "</table>\n",
              "<p>5 rows × 30 columns</p>\n",
              "</div>\n",
              "      <button class=\"colab-df-convert\" onclick=\"convertToInteractive('df-062de839-0d18-42b5-bbb1-8cc8e0c9d898')\"\n",
              "              title=\"Convert this dataframe to an interactive table.\"\n",
              "              style=\"display:none;\">\n",
              "        \n",
              "  <svg xmlns=\"http://www.w3.org/2000/svg\" height=\"24px\"viewBox=\"0 0 24 24\"\n",
              "       width=\"24px\">\n",
              "    <path d=\"M0 0h24v24H0V0z\" fill=\"none\"/>\n",
              "    <path d=\"M18.56 5.44l.94 2.06.94-2.06 2.06-.94-2.06-.94-.94-2.06-.94 2.06-2.06.94zm-11 1L8.5 8.5l.94-2.06 2.06-.94-2.06-.94L8.5 2.5l-.94 2.06-2.06.94zm10 10l.94 2.06.94-2.06 2.06-.94-2.06-.94-.94-2.06-.94 2.06-2.06.94z\"/><path d=\"M17.41 7.96l-1.37-1.37c-.4-.4-.92-.59-1.43-.59-.52 0-1.04.2-1.43.59L10.3 9.45l-7.72 7.72c-.78.78-.78 2.05 0 2.83L4 21.41c.39.39.9.59 1.41.59.51 0 1.02-.2 1.41-.59l7.78-7.78 2.81-2.81c.8-.78.8-2.07 0-2.86zM5.41 20L4 18.59l7.72-7.72 1.47 1.35L5.41 20z\"/>\n",
              "  </svg>\n",
              "      </button>\n",
              "      \n",
              "  <style>\n",
              "    .colab-df-container {\n",
              "      display:flex;\n",
              "      flex-wrap:wrap;\n",
              "      gap: 12px;\n",
              "    }\n",
              "\n",
              "    .colab-df-convert {\n",
              "      background-color: #E8F0FE;\n",
              "      border: none;\n",
              "      border-radius: 50%;\n",
              "      cursor: pointer;\n",
              "      display: none;\n",
              "      fill: #1967D2;\n",
              "      height: 32px;\n",
              "      padding: 0 0 0 0;\n",
              "      width: 32px;\n",
              "    }\n",
              "\n",
              "    .colab-df-convert:hover {\n",
              "      background-color: #E2EBFA;\n",
              "      box-shadow: 0px 1px 2px rgba(60, 64, 67, 0.3), 0px 1px 3px 1px rgba(60, 64, 67, 0.15);\n",
              "      fill: #174EA6;\n",
              "    }\n",
              "\n",
              "    [theme=dark] .colab-df-convert {\n",
              "      background-color: #3B4455;\n",
              "      fill: #D2E3FC;\n",
              "    }\n",
              "\n",
              "    [theme=dark] .colab-df-convert:hover {\n",
              "      background-color: #434B5C;\n",
              "      box-shadow: 0px 1px 3px 1px rgba(0, 0, 0, 0.15);\n",
              "      filter: drop-shadow(0px 1px 2px rgba(0, 0, 0, 0.3));\n",
              "      fill: #FFFFFF;\n",
              "    }\n",
              "  </style>\n",
              "\n",
              "      <script>\n",
              "        const buttonEl =\n",
              "          document.querySelector('#df-062de839-0d18-42b5-bbb1-8cc8e0c9d898 button.colab-df-convert');\n",
              "        buttonEl.style.display =\n",
              "          google.colab.kernel.accessAllowed ? 'block' : 'none';\n",
              "\n",
              "        async function convertToInteractive(key) {\n",
              "          const element = document.querySelector('#df-062de839-0d18-42b5-bbb1-8cc8e0c9d898');\n",
              "          const dataTable =\n",
              "            await google.colab.kernel.invokeFunction('convertToInteractive',\n",
              "                                                     [key], {});\n",
              "          if (!dataTable) return;\n",
              "\n",
              "          const docLinkHtml = 'Like what you see? Visit the ' +\n",
              "            '<a target=\"_blank\" href=https://colab.research.google.com/notebooks/data_table.ipynb>data table notebook</a>'\n",
              "            + ' to learn more about interactive tables.';\n",
              "          element.innerHTML = '';\n",
              "          dataTable['output_type'] = 'display_data';\n",
              "          await google.colab.output.renderOutput(dataTable, element);\n",
              "          const docLink = document.createElement('div');\n",
              "          docLink.innerHTML = docLinkHtml;\n",
              "          element.appendChild(docLink);\n",
              "        }\n",
              "      </script>\n",
              "    </div>\n",
              "  </div>\n",
              "  "
            ]
          },
          "metadata": {},
          "execution_count": 17
        }
      ],
      "source": [
        "data.head()"
      ]
    },
    {
      "cell_type": "markdown",
      "metadata": {
        "id": "BAZVXVNOSBtS"
      },
      "source": [
        "**Numerical variables**\n",
        "\n",
        "* Filling missing values with median of the column value"
      ]
    },
    {
      "cell_type": "code",
      "execution_count": 18,
      "metadata": {
        "colab": {
          "base_uri": "https://localhost:8080/"
        },
        "id": "22A2KtpeSBtS",
        "outputId": "e739c814-8832-47a9-f950-621fc7e54169"
      },
      "outputs": [
        {
          "output_type": "stream",
          "name": "stdout",
          "text": [
            "Neumeric variables:\n",
            "['MinTemp', 'MaxTemp', 'Rainfall', 'Evaporation', 'Sunshine', 'WindGustSpeed', 'WindSpeed9am', 'WindSpeed3pm', 'Humidity9am', 'Humidity3pm', 'Pressure9am', 'Pressure3pm', 'Cloud9am', 'Cloud3pm', 'Temp9am', 'Temp3pm', 'month_sin', 'month_cos', 'day_sin', 'day_cos']\n"
          ]
        }
      ],
      "source": [
        "# Get list of neumeric variables\n",
        "t = (data.dtypes == \"float64\")\n",
        "num_cols = list(t[t].index)\n",
        "\n",
        "print(\"Neumeric variables:\")\n",
        "print(num_cols)"
      ]
    },
    {
      "cell_type": "code",
      "execution_count": 19,
      "metadata": {
        "colab": {
          "base_uri": "https://localhost:8080/"
        },
        "id": "QQPh0K--SBtT",
        "outputId": "376f6bfc-f0bd-4f6d-e74c-0c731f7401d3"
      },
      "outputs": [
        {
          "output_type": "stream",
          "name": "stdout",
          "text": [
            "MinTemp 1485\n",
            "MaxTemp 1261\n",
            "Rainfall 3261\n",
            "Evaporation 62790\n",
            "Sunshine 69835\n",
            "WindGustSpeed 10263\n",
            "WindSpeed9am 1767\n",
            "WindSpeed3pm 3062\n",
            "Humidity9am 2654\n",
            "Humidity3pm 4507\n",
            "Pressure9am 15065\n",
            "Pressure3pm 15028\n",
            "Cloud9am 55888\n",
            "Cloud3pm 59358\n",
            "Temp9am 1767\n",
            "Temp3pm 3609\n",
            "month_sin 0\n",
            "month_cos 0\n",
            "day_sin 0\n",
            "day_cos 0\n"
          ]
        }
      ],
      "source": [
        "# Missing values in numeric variables\n",
        "\n",
        "for i in num_cols:\n",
        "    print(i, data[i].isnull().sum())"
      ]
    },
    {
      "cell_type": "code",
      "execution_count": 20,
      "metadata": {
        "colab": {
          "base_uri": "https://localhost:8080/"
        },
        "id": "Hs1ZPDP_SBtV",
        "outputId": "f607a9e1-1023-4a11-9d80-7f832088acb0"
      },
      "outputs": [
        {
          "output_type": "stream",
          "name": "stdout",
          "text": [
            "<class 'pandas.core.frame.DataFrame'>\n",
            "RangeIndex: 145460 entries, 0 to 145459\n",
            "Data columns (total 30 columns):\n",
            " #   Column         Non-Null Count   Dtype         \n",
            "---  ------         --------------   -----         \n",
            " 0   Date           145460 non-null  datetime64[ns]\n",
            " 1   Location       145460 non-null  object        \n",
            " 2   MinTemp        145460 non-null  float64       \n",
            " 3   MaxTemp        145460 non-null  float64       \n",
            " 4   Rainfall       145460 non-null  float64       \n",
            " 5   Evaporation    145460 non-null  float64       \n",
            " 6   Sunshine       145460 non-null  float64       \n",
            " 7   WindGustDir    145460 non-null  object        \n",
            " 8   WindGustSpeed  145460 non-null  float64       \n",
            " 9   WindDir9am     145460 non-null  object        \n",
            " 10  WindDir3pm     145460 non-null  object        \n",
            " 11  WindSpeed9am   145460 non-null  float64       \n",
            " 12  WindSpeed3pm   145460 non-null  float64       \n",
            " 13  Humidity9am    145460 non-null  float64       \n",
            " 14  Humidity3pm    145460 non-null  float64       \n",
            " 15  Pressure9am    145460 non-null  float64       \n",
            " 16  Pressure3pm    145460 non-null  float64       \n",
            " 17  Cloud9am       145460 non-null  float64       \n",
            " 18  Cloud3pm       145460 non-null  float64       \n",
            " 19  Temp9am        145460 non-null  float64       \n",
            " 20  Temp3pm        145460 non-null  float64       \n",
            " 21  RainToday      145460 non-null  object        \n",
            " 22  RainTomorrow   145460 non-null  object        \n",
            " 23  year           145460 non-null  int64         \n",
            " 24  month          145460 non-null  int64         \n",
            " 25  month_sin      145460 non-null  float64       \n",
            " 26  month_cos      145460 non-null  float64       \n",
            " 27  day            145460 non-null  int64         \n",
            " 28  day_sin        145460 non-null  float64       \n",
            " 29  day_cos        145460 non-null  float64       \n",
            "dtypes: datetime64[ns](1), float64(20), int64(3), object(6)\n",
            "memory usage: 33.3+ MB\n"
          ]
        }
      ],
      "source": [
        "# Filling missing values with median of the column in value\n",
        "\n",
        "for i in num_cols:\n",
        "    data[i].fillna(data[i].median(), inplace=True)\n",
        "    \n",
        "data.info()"
      ]
    },
    {
      "cell_type": "markdown",
      "metadata": {
        "id": "ta3c6OTHSBtX"
      },
      "source": [
        "<a id=\"4\"></a>\n",
        " <h2 style='background:#C2C4E2; border:0; color:black'><center>DATA PREPROCESSING</center></h2> \n",
        " \n",
        "# DATA PREPROCESSING \n",
        "\n",
        "**Steps involved in Data Preprocessing:**\n",
        "\n",
        "* Label encoding columns with categorical data\n",
        "* Perform the scaling of the features\n",
        "* Detecting outliers (optional work)\n",
        "* Dropping the outliers based on data analysis (optional work)"
      ]
    },
    {
      "cell_type": "markdown",
      "metadata": {
        "id": "MOIbuwiBSBtY"
      },
      "source": [
        "**Label encoding the catagorical varable**"
      ]
    },
    {
      "cell_type": "code",
      "execution_count": 21,
      "metadata": {
        "colab": {
          "base_uri": "https://localhost:8080/"
        },
        "id": "6megyZ3ISBtZ",
        "outputId": "dce74510-528c-4cbe-cf99-c040e6f7c0e9"
      },
      "outputs": [
        {
          "output_type": "stream",
          "name": "stdout",
          "text": [
            "<class 'pandas.core.frame.DataFrame'>\n",
            "RangeIndex: 145460 entries, 0 to 145459\n",
            "Data columns (total 30 columns):\n",
            " #   Column         Non-Null Count   Dtype         \n",
            "---  ------         --------------   -----         \n",
            " 0   Date           145460 non-null  datetime64[ns]\n",
            " 1   Location       145460 non-null  int64         \n",
            " 2   MinTemp        145460 non-null  float64       \n",
            " 3   MaxTemp        145460 non-null  float64       \n",
            " 4   Rainfall       145460 non-null  float64       \n",
            " 5   Evaporation    145460 non-null  float64       \n",
            " 6   Sunshine       145460 non-null  float64       \n",
            " 7   WindGustDir    145460 non-null  int64         \n",
            " 8   WindGustSpeed  145460 non-null  float64       \n",
            " 9   WindDir9am     145460 non-null  int64         \n",
            " 10  WindDir3pm     145460 non-null  int64         \n",
            " 11  WindSpeed9am   145460 non-null  float64       \n",
            " 12  WindSpeed3pm   145460 non-null  float64       \n",
            " 13  Humidity9am    145460 non-null  float64       \n",
            " 14  Humidity3pm    145460 non-null  float64       \n",
            " 15  Pressure9am    145460 non-null  float64       \n",
            " 16  Pressure3pm    145460 non-null  float64       \n",
            " 17  Cloud9am       145460 non-null  float64       \n",
            " 18  Cloud3pm       145460 non-null  float64       \n",
            " 19  Temp9am        145460 non-null  float64       \n",
            " 20  Temp3pm        145460 non-null  float64       \n",
            " 21  RainToday      145460 non-null  int64         \n",
            " 22  RainTomorrow   145460 non-null  int64         \n",
            " 23  year           145460 non-null  int64         \n",
            " 24  month          145460 non-null  int64         \n",
            " 25  month_sin      145460 non-null  float64       \n",
            " 26  month_cos      145460 non-null  float64       \n",
            " 27  day            145460 non-null  int64         \n",
            " 28  day_sin        145460 non-null  float64       \n",
            " 29  day_cos        145460 non-null  float64       \n",
            "dtypes: datetime64[ns](1), float64(20), int64(9)\n",
            "memory usage: 33.3 MB\n"
          ]
        }
      ],
      "source": [
        "# Apply label encoder to each column with categorical data\n",
        "label_encoder = LabelEncoder()\n",
        "for i in object_cols:\n",
        "    data[i] = label_encoder.fit_transform(data[i])\n",
        "    \n",
        "data.info()"
      ]
    },
    {
      "cell_type": "code",
      "execution_count": 22,
      "metadata": {
        "colab": {
          "base_uri": "https://localhost:8080/",
          "height": 865
        },
        "id": "h_fFCnGUSBta",
        "outputId": "df3160d1-5a9e-4dd9-fece-489957ac7320"
      },
      "outputs": [
        {
          "output_type": "execute_result",
          "data": {
            "text/plain": [
              "                  count          mean       std       min       25%       50%  \\\n",
              "Location       145460.0  7.815677e-18  1.000003 -1.672228 -0.899139  0.014511   \n",
              "MinTemp        145460.0 -4.501830e-16  1.000003 -3.250525 -0.705659 -0.030170   \n",
              "MaxTemp        145460.0  3.001220e-16  1.000003 -3.952405 -0.735852 -0.086898   \n",
              "Rainfall       145460.0  7.815677e-18  1.000003 -0.275097 -0.275097 -0.275097   \n",
              "Evaporation    145460.0 -3.282584e-17  1.000003 -1.629472 -0.371139 -0.119472   \n",
              "Sunshine       145460.0 -5.424080e-16  1.000003 -2.897217  0.076188  0.148710   \n",
              "WindGustDir    145460.0  6.252542e-18  1.000003 -1.724209 -0.872075  0.193094   \n",
              "WindGustSpeed  145460.0  1.824961e-16  1.000003 -2.588407 -0.683048 -0.073333   \n",
              "WindDir9am     145460.0  7.190423e-17  1.000003 -1.550000 -0.885669  0.000105   \n",
              "WindDir3pm     145460.0  8.284618e-17  1.000003 -1.718521 -0.837098  0.044324   \n",
              "WindSpeed9am   145460.0  5.627287e-17  1.000003 -1.583291 -0.793380 -0.116314   \n",
              "WindSpeed3pm   145460.0  6.565169e-17  1.000003 -2.141841 -0.650449  0.037886   \n",
              "Humidity9am    145460.0  2.250915e-16  1.000003 -3.654212 -0.631189  0.058273   \n",
              "Humidity3pm    145460.0 -8.440931e-17  1.000003 -2.518329 -0.710918  0.021816   \n",
              "Pressure9am    145460.0 -4.314254e-16  1.000003 -5.520544 -0.616005 -0.006653   \n",
              "Pressure3pm    145460.0  5.027043e-15  1.000003 -5.724832 -0.622769 -0.007520   \n",
              "Cloud9am       145460.0 -1.016038e-16  1.000003 -2.042425 -0.727490  0.149133   \n",
              "Cloud3pm       145460.0  7.346736e-17  1.000003 -2.235619 -0.336969  0.137693   \n",
              "Temp9am        145460.0  7.503050e-17  1.000003 -3.750358 -0.726764 -0.044517   \n",
              "Temp3pm        145460.0 -6.877796e-17  1.000003 -3.951301 -0.725322 -0.083046   \n",
              "RainToday      145460.0 -8.988029e-18  1.000003 -0.529795 -0.529795 -0.529795   \n",
              "year           145460.0  2.080221e-14  1.000003 -2.273637 -0.697391  0.090732   \n",
              "month_sin      145460.0 -4.884798e-17  1.000003 -1.434333 -0.725379 -0.016425   \n",
              "month_cos      145460.0 -2.745257e-17  1.000003 -1.388032 -1.198979  0.023080   \n",
              "day_sin        145460.0  3.565903e-18  1.000003 -1.403140 -1.019170 -0.003198   \n",
              "day_cos        145460.0 -1.413538e-17  1.000003 -1.392587 -1.055520 -0.044639   \n",
              "\n",
              "                    75%        max  \n",
              "Location       0.857881   1.701250  \n",
              "MinTemp        0.723865   3.410112  \n",
              "MaxTemp        0.703133   3.510563  \n",
              "Rainfall      -0.203581  43.945571  \n",
              "Evaporation    0.006361  43.985108  \n",
              "Sunshine       0.257494   2.360634  \n",
              "WindGustDir    1.045228   1.471296  \n",
              "WindGustSpeed  0.460168   7.243246  \n",
              "WindDir9am     0.885879   1.771653  \n",
              "WindDir3pm     0.925747   1.586813  \n",
              "WindSpeed9am   0.560752  13.086472  \n",
              "WindSpeed3pm   0.611499   7.839016  \n",
              "Humidity9am    0.747734   1.649338  \n",
              "Humidity3pm    0.656852   2.366565  \n",
              "Pressure9am    0.617561   3.471111  \n",
              "Pressure3pm    0.622735   3.653960  \n",
              "Cloud9am       0.587445   1.902380  \n",
              "Cloud3pm       0.612356   2.036343  \n",
              "Temp9am        0.699753   3.599302  \n",
              "Temp3pm        0.661411   3.653834  \n",
              "RainToday     -0.529795   1.887521  \n",
              "year           0.878855   1.666978  \n",
              "month_sin      0.692529   1.401483  \n",
              "month_cos      0.728636   1.434192  \n",
              "day_sin        1.012774   1.396744  \n",
              "day_cos        1.011221   1.455246  "
            ],
            "text/html": [
              "\n",
              "  <div id=\"df-4b98091a-c7c6-488c-ba1f-225cb8df072f\">\n",
              "    <div class=\"colab-df-container\">\n",
              "      <div>\n",
              "<style scoped>\n",
              "    .dataframe tbody tr th:only-of-type {\n",
              "        vertical-align: middle;\n",
              "    }\n",
              "\n",
              "    .dataframe tbody tr th {\n",
              "        vertical-align: top;\n",
              "    }\n",
              "\n",
              "    .dataframe thead th {\n",
              "        text-align: right;\n",
              "    }\n",
              "</style>\n",
              "<table border=\"1\" class=\"dataframe\">\n",
              "  <thead>\n",
              "    <tr style=\"text-align: right;\">\n",
              "      <th></th>\n",
              "      <th>count</th>\n",
              "      <th>mean</th>\n",
              "      <th>std</th>\n",
              "      <th>min</th>\n",
              "      <th>25%</th>\n",
              "      <th>50%</th>\n",
              "      <th>75%</th>\n",
              "      <th>max</th>\n",
              "    </tr>\n",
              "  </thead>\n",
              "  <tbody>\n",
              "    <tr>\n",
              "      <th>Location</th>\n",
              "      <td>145460.0</td>\n",
              "      <td>7.815677e-18</td>\n",
              "      <td>1.000003</td>\n",
              "      <td>-1.672228</td>\n",
              "      <td>-0.899139</td>\n",
              "      <td>0.014511</td>\n",
              "      <td>0.857881</td>\n",
              "      <td>1.701250</td>\n",
              "    </tr>\n",
              "    <tr>\n",
              "      <th>MinTemp</th>\n",
              "      <td>145460.0</td>\n",
              "      <td>-4.501830e-16</td>\n",
              "      <td>1.000003</td>\n",
              "      <td>-3.250525</td>\n",
              "      <td>-0.705659</td>\n",
              "      <td>-0.030170</td>\n",
              "      <td>0.723865</td>\n",
              "      <td>3.410112</td>\n",
              "    </tr>\n",
              "    <tr>\n",
              "      <th>MaxTemp</th>\n",
              "      <td>145460.0</td>\n",
              "      <td>3.001220e-16</td>\n",
              "      <td>1.000003</td>\n",
              "      <td>-3.952405</td>\n",
              "      <td>-0.735852</td>\n",
              "      <td>-0.086898</td>\n",
              "      <td>0.703133</td>\n",
              "      <td>3.510563</td>\n",
              "    </tr>\n",
              "    <tr>\n",
              "      <th>Rainfall</th>\n",
              "      <td>145460.0</td>\n",
              "      <td>7.815677e-18</td>\n",
              "      <td>1.000003</td>\n",
              "      <td>-0.275097</td>\n",
              "      <td>-0.275097</td>\n",
              "      <td>-0.275097</td>\n",
              "      <td>-0.203581</td>\n",
              "      <td>43.945571</td>\n",
              "    </tr>\n",
              "    <tr>\n",
              "      <th>Evaporation</th>\n",
              "      <td>145460.0</td>\n",
              "      <td>-3.282584e-17</td>\n",
              "      <td>1.000003</td>\n",
              "      <td>-1.629472</td>\n",
              "      <td>-0.371139</td>\n",
              "      <td>-0.119472</td>\n",
              "      <td>0.006361</td>\n",
              "      <td>43.985108</td>\n",
              "    </tr>\n",
              "    <tr>\n",
              "      <th>Sunshine</th>\n",
              "      <td>145460.0</td>\n",
              "      <td>-5.424080e-16</td>\n",
              "      <td>1.000003</td>\n",
              "      <td>-2.897217</td>\n",
              "      <td>0.076188</td>\n",
              "      <td>0.148710</td>\n",
              "      <td>0.257494</td>\n",
              "      <td>2.360634</td>\n",
              "    </tr>\n",
              "    <tr>\n",
              "      <th>WindGustDir</th>\n",
              "      <td>145460.0</td>\n",
              "      <td>6.252542e-18</td>\n",
              "      <td>1.000003</td>\n",
              "      <td>-1.724209</td>\n",
              "      <td>-0.872075</td>\n",
              "      <td>0.193094</td>\n",
              "      <td>1.045228</td>\n",
              "      <td>1.471296</td>\n",
              "    </tr>\n",
              "    <tr>\n",
              "      <th>WindGustSpeed</th>\n",
              "      <td>145460.0</td>\n",
              "      <td>1.824961e-16</td>\n",
              "      <td>1.000003</td>\n",
              "      <td>-2.588407</td>\n",
              "      <td>-0.683048</td>\n",
              "      <td>-0.073333</td>\n",
              "      <td>0.460168</td>\n",
              "      <td>7.243246</td>\n",
              "    </tr>\n",
              "    <tr>\n",
              "      <th>WindDir9am</th>\n",
              "      <td>145460.0</td>\n",
              "      <td>7.190423e-17</td>\n",
              "      <td>1.000003</td>\n",
              "      <td>-1.550000</td>\n",
              "      <td>-0.885669</td>\n",
              "      <td>0.000105</td>\n",
              "      <td>0.885879</td>\n",
              "      <td>1.771653</td>\n",
              "    </tr>\n",
              "    <tr>\n",
              "      <th>WindDir3pm</th>\n",
              "      <td>145460.0</td>\n",
              "      <td>8.284618e-17</td>\n",
              "      <td>1.000003</td>\n",
              "      <td>-1.718521</td>\n",
              "      <td>-0.837098</td>\n",
              "      <td>0.044324</td>\n",
              "      <td>0.925747</td>\n",
              "      <td>1.586813</td>\n",
              "    </tr>\n",
              "    <tr>\n",
              "      <th>WindSpeed9am</th>\n",
              "      <td>145460.0</td>\n",
              "      <td>5.627287e-17</td>\n",
              "      <td>1.000003</td>\n",
              "      <td>-1.583291</td>\n",
              "      <td>-0.793380</td>\n",
              "      <td>-0.116314</td>\n",
              "      <td>0.560752</td>\n",
              "      <td>13.086472</td>\n",
              "    </tr>\n",
              "    <tr>\n",
              "      <th>WindSpeed3pm</th>\n",
              "      <td>145460.0</td>\n",
              "      <td>6.565169e-17</td>\n",
              "      <td>1.000003</td>\n",
              "      <td>-2.141841</td>\n",
              "      <td>-0.650449</td>\n",
              "      <td>0.037886</td>\n",
              "      <td>0.611499</td>\n",
              "      <td>7.839016</td>\n",
              "    </tr>\n",
              "    <tr>\n",
              "      <th>Humidity9am</th>\n",
              "      <td>145460.0</td>\n",
              "      <td>2.250915e-16</td>\n",
              "      <td>1.000003</td>\n",
              "      <td>-3.654212</td>\n",
              "      <td>-0.631189</td>\n",
              "      <td>0.058273</td>\n",
              "      <td>0.747734</td>\n",
              "      <td>1.649338</td>\n",
              "    </tr>\n",
              "    <tr>\n",
              "      <th>Humidity3pm</th>\n",
              "      <td>145460.0</td>\n",
              "      <td>-8.440931e-17</td>\n",
              "      <td>1.000003</td>\n",
              "      <td>-2.518329</td>\n",
              "      <td>-0.710918</td>\n",
              "      <td>0.021816</td>\n",
              "      <td>0.656852</td>\n",
              "      <td>2.366565</td>\n",
              "    </tr>\n",
              "    <tr>\n",
              "      <th>Pressure9am</th>\n",
              "      <td>145460.0</td>\n",
              "      <td>-4.314254e-16</td>\n",
              "      <td>1.000003</td>\n",
              "      <td>-5.520544</td>\n",
              "      <td>-0.616005</td>\n",
              "      <td>-0.006653</td>\n",
              "      <td>0.617561</td>\n",
              "      <td>3.471111</td>\n",
              "    </tr>\n",
              "    <tr>\n",
              "      <th>Pressure3pm</th>\n",
              "      <td>145460.0</td>\n",
              "      <td>5.027043e-15</td>\n",
              "      <td>1.000003</td>\n",
              "      <td>-5.724832</td>\n",
              "      <td>-0.622769</td>\n",
              "      <td>-0.007520</td>\n",
              "      <td>0.622735</td>\n",
              "      <td>3.653960</td>\n",
              "    </tr>\n",
              "    <tr>\n",
              "      <th>Cloud9am</th>\n",
              "      <td>145460.0</td>\n",
              "      <td>-1.016038e-16</td>\n",
              "      <td>1.000003</td>\n",
              "      <td>-2.042425</td>\n",
              "      <td>-0.727490</td>\n",
              "      <td>0.149133</td>\n",
              "      <td>0.587445</td>\n",
              "      <td>1.902380</td>\n",
              "    </tr>\n",
              "    <tr>\n",
              "      <th>Cloud3pm</th>\n",
              "      <td>145460.0</td>\n",
              "      <td>7.346736e-17</td>\n",
              "      <td>1.000003</td>\n",
              "      <td>-2.235619</td>\n",
              "      <td>-0.336969</td>\n",
              "      <td>0.137693</td>\n",
              "      <td>0.612356</td>\n",
              "      <td>2.036343</td>\n",
              "    </tr>\n",
              "    <tr>\n",
              "      <th>Temp9am</th>\n",
              "      <td>145460.0</td>\n",
              "      <td>7.503050e-17</td>\n",
              "      <td>1.000003</td>\n",
              "      <td>-3.750358</td>\n",
              "      <td>-0.726764</td>\n",
              "      <td>-0.044517</td>\n",
              "      <td>0.699753</td>\n",
              "      <td>3.599302</td>\n",
              "    </tr>\n",
              "    <tr>\n",
              "      <th>Temp3pm</th>\n",
              "      <td>145460.0</td>\n",
              "      <td>-6.877796e-17</td>\n",
              "      <td>1.000003</td>\n",
              "      <td>-3.951301</td>\n",
              "      <td>-0.725322</td>\n",
              "      <td>-0.083046</td>\n",
              "      <td>0.661411</td>\n",
              "      <td>3.653834</td>\n",
              "    </tr>\n",
              "    <tr>\n",
              "      <th>RainToday</th>\n",
              "      <td>145460.0</td>\n",
              "      <td>-8.988029e-18</td>\n",
              "      <td>1.000003</td>\n",
              "      <td>-0.529795</td>\n",
              "      <td>-0.529795</td>\n",
              "      <td>-0.529795</td>\n",
              "      <td>-0.529795</td>\n",
              "      <td>1.887521</td>\n",
              "    </tr>\n",
              "    <tr>\n",
              "      <th>year</th>\n",
              "      <td>145460.0</td>\n",
              "      <td>2.080221e-14</td>\n",
              "      <td>1.000003</td>\n",
              "      <td>-2.273637</td>\n",
              "      <td>-0.697391</td>\n",
              "      <td>0.090732</td>\n",
              "      <td>0.878855</td>\n",
              "      <td>1.666978</td>\n",
              "    </tr>\n",
              "    <tr>\n",
              "      <th>month_sin</th>\n",
              "      <td>145460.0</td>\n",
              "      <td>-4.884798e-17</td>\n",
              "      <td>1.000003</td>\n",
              "      <td>-1.434333</td>\n",
              "      <td>-0.725379</td>\n",
              "      <td>-0.016425</td>\n",
              "      <td>0.692529</td>\n",
              "      <td>1.401483</td>\n",
              "    </tr>\n",
              "    <tr>\n",
              "      <th>month_cos</th>\n",
              "      <td>145460.0</td>\n",
              "      <td>-2.745257e-17</td>\n",
              "      <td>1.000003</td>\n",
              "      <td>-1.388032</td>\n",
              "      <td>-1.198979</td>\n",
              "      <td>0.023080</td>\n",
              "      <td>0.728636</td>\n",
              "      <td>1.434192</td>\n",
              "    </tr>\n",
              "    <tr>\n",
              "      <th>day_sin</th>\n",
              "      <td>145460.0</td>\n",
              "      <td>3.565903e-18</td>\n",
              "      <td>1.000003</td>\n",
              "      <td>-1.403140</td>\n",
              "      <td>-1.019170</td>\n",
              "      <td>-0.003198</td>\n",
              "      <td>1.012774</td>\n",
              "      <td>1.396744</td>\n",
              "    </tr>\n",
              "    <tr>\n",
              "      <th>day_cos</th>\n",
              "      <td>145460.0</td>\n",
              "      <td>-1.413538e-17</td>\n",
              "      <td>1.000003</td>\n",
              "      <td>-1.392587</td>\n",
              "      <td>-1.055520</td>\n",
              "      <td>-0.044639</td>\n",
              "      <td>1.011221</td>\n",
              "      <td>1.455246</td>\n",
              "    </tr>\n",
              "  </tbody>\n",
              "</table>\n",
              "</div>\n",
              "      <button class=\"colab-df-convert\" onclick=\"convertToInteractive('df-4b98091a-c7c6-488c-ba1f-225cb8df072f')\"\n",
              "              title=\"Convert this dataframe to an interactive table.\"\n",
              "              style=\"display:none;\">\n",
              "        \n",
              "  <svg xmlns=\"http://www.w3.org/2000/svg\" height=\"24px\"viewBox=\"0 0 24 24\"\n",
              "       width=\"24px\">\n",
              "    <path d=\"M0 0h24v24H0V0z\" fill=\"none\"/>\n",
              "    <path d=\"M18.56 5.44l.94 2.06.94-2.06 2.06-.94-2.06-.94-.94-2.06-.94 2.06-2.06.94zm-11 1L8.5 8.5l.94-2.06 2.06-.94-2.06-.94L8.5 2.5l-.94 2.06-2.06.94zm10 10l.94 2.06.94-2.06 2.06-.94-2.06-.94-.94-2.06-.94 2.06-2.06.94z\"/><path d=\"M17.41 7.96l-1.37-1.37c-.4-.4-.92-.59-1.43-.59-.52 0-1.04.2-1.43.59L10.3 9.45l-7.72 7.72c-.78.78-.78 2.05 0 2.83L4 21.41c.39.39.9.59 1.41.59.51 0 1.02-.2 1.41-.59l7.78-7.78 2.81-2.81c.8-.78.8-2.07 0-2.86zM5.41 20L4 18.59l7.72-7.72 1.47 1.35L5.41 20z\"/>\n",
              "  </svg>\n",
              "      </button>\n",
              "      \n",
              "  <style>\n",
              "    .colab-df-container {\n",
              "      display:flex;\n",
              "      flex-wrap:wrap;\n",
              "      gap: 12px;\n",
              "    }\n",
              "\n",
              "    .colab-df-convert {\n",
              "      background-color: #E8F0FE;\n",
              "      border: none;\n",
              "      border-radius: 50%;\n",
              "      cursor: pointer;\n",
              "      display: none;\n",
              "      fill: #1967D2;\n",
              "      height: 32px;\n",
              "      padding: 0 0 0 0;\n",
              "      width: 32px;\n",
              "    }\n",
              "\n",
              "    .colab-df-convert:hover {\n",
              "      background-color: #E2EBFA;\n",
              "      box-shadow: 0px 1px 2px rgba(60, 64, 67, 0.3), 0px 1px 3px 1px rgba(60, 64, 67, 0.15);\n",
              "      fill: #174EA6;\n",
              "    }\n",
              "\n",
              "    [theme=dark] .colab-df-convert {\n",
              "      background-color: #3B4455;\n",
              "      fill: #D2E3FC;\n",
              "    }\n",
              "\n",
              "    [theme=dark] .colab-df-convert:hover {\n",
              "      background-color: #434B5C;\n",
              "      box-shadow: 0px 1px 3px 1px rgba(0, 0, 0, 0.15);\n",
              "      filter: drop-shadow(0px 1px 2px rgba(0, 0, 0, 0.3));\n",
              "      fill: #FFFFFF;\n",
              "    }\n",
              "  </style>\n",
              "\n",
              "      <script>\n",
              "        const buttonEl =\n",
              "          document.querySelector('#df-4b98091a-c7c6-488c-ba1f-225cb8df072f button.colab-df-convert');\n",
              "        buttonEl.style.display =\n",
              "          google.colab.kernel.accessAllowed ? 'block' : 'none';\n",
              "\n",
              "        async function convertToInteractive(key) {\n",
              "          const element = document.querySelector('#df-4b98091a-c7c6-488c-ba1f-225cb8df072f');\n",
              "          const dataTable =\n",
              "            await google.colab.kernel.invokeFunction('convertToInteractive',\n",
              "                                                     [key], {});\n",
              "          if (!dataTable) return;\n",
              "\n",
              "          const docLinkHtml = 'Like what you see? Visit the ' +\n",
              "            '<a target=\"_blank\" href=https://colab.research.google.com/notebooks/data_table.ipynb>data table notebook</a>'\n",
              "            + ' to learn more about interactive tables.';\n",
              "          element.innerHTML = '';\n",
              "          dataTable['output_type'] = 'display_data';\n",
              "          await google.colab.output.renderOutput(dataTable, element);\n",
              "          const docLink = document.createElement('div');\n",
              "          docLink.innerHTML = docLinkHtml;\n",
              "          element.appendChild(docLink);\n",
              "        }\n",
              "      </script>\n",
              "    </div>\n",
              "  </div>\n",
              "  "
            ]
          },
          "metadata": {},
          "execution_count": 22
        }
      ],
      "source": [
        "# Prepairing attributes of scale data\n",
        "\n",
        "features = data.drop(['RainTomorrow', 'Date','day', 'month'], axis=1) # dropping target and extra columns\n",
        "\n",
        "target = data['RainTomorrow']\n",
        "\n",
        "#Set up a standard scaler for the features\n",
        "col_names = list(features.columns)\n",
        "s_scaler = preprocessing.StandardScaler()\n",
        "features = s_scaler.fit_transform(features)\n",
        "features = pd.DataFrame(features, columns=col_names) \n",
        "\n",
        "features.describe().T"
      ]
    },
    {
      "cell_type": "code",
      "execution_count": 23,
      "metadata": {
        "colab": {
          "base_uri": "https://localhost:8080/",
          "height": 661
        },
        "id": "0ghBzkl_SBtb",
        "outputId": "90f5d91e-98b4-47a9-da26-e919b17ee125"
      },
      "outputs": [
        {
          "output_type": "display_data",
          "data": {
            "text/plain": [
              "<Figure size 1440x720 with 1 Axes>"
            ],
            "image/png": "[encoded data removed]"
          },
          "metadata": {
            "needs_background": "light"
          }
        }
      ],
      "source": [
        "#Detecting outliers\n",
        "#looking at the scaled features\n",
        "colours = [\"#D0DBEE\", \"#C2C4E2\", \"#EED4E5\", \"#D1E6DC\", \"#BDE2E2\"]\n",
        "plt.figure(figsize=(20,10))\n",
        "sns.boxenplot(data = features,palette = colours)\n",
        "plt.xticks(rotation=90)\n",
        "plt.show()"
      ]
    },
    {
      "cell_type": "code",
      "execution_count": 24,
      "metadata": {
        "colab": {
          "base_uri": "https://localhost:8080/"
        },
        "id": "WFZ3LKiFSBtc",
        "outputId": "9190337b-2b80-44d0-c4ec-446939457d28"
      },
      "outputs": [
        {
          "output_type": "execute_result",
          "data": {
            "text/plain": [
              "(127536, 27)"
            ]
          },
          "metadata": {},
          "execution_count": 24
        }
      ],
      "source": [
        "#full data for \n",
        "features[\"RainTomorrow\"] = target\n",
        "\n",
        "#Dropping with outlier\n",
        "\n",
        "features = features[(features[\"MinTemp\"]<2.3)&(features[\"MinTemp\"]>-2.3)]\n",
        "features = features[(features[\"MaxTemp\"]<2.3)&(features[\"MaxTemp\"]>-2)]\n",
        "features = features[(features[\"Rainfall\"]<4.5)]\n",
        "features = features[(features[\"Evaporation\"]<2.8)]\n",
        "features = features[(features[\"Sunshine\"]<2.1)]\n",
        "features = features[(features[\"WindGustSpeed\"]<4)&(features[\"WindGustSpeed\"]>-4)]\n",
        "features = features[(features[\"WindSpeed9am\"]<4)]\n",
        "features = features[(features[\"WindSpeed3pm\"]<2.5)]\n",
        "features = features[(features[\"Humidity9am\"]>-3)]\n",
        "features = features[(features[\"Humidity3pm\"]>-2.2)]\n",
        "features = features[(features[\"Pressure9am\"]< 2)&(features[\"Pressure9am\"]>-2.7)]\n",
        "features = features[(features[\"Pressure3pm\"]< 2)&(features[\"Pressure3pm\"]>-2.7)]\n",
        "features = features[(features[\"Cloud9am\"]<1.8)]\n",
        "features = features[(features[\"Cloud3pm\"]<2)]\n",
        "features = features[(features[\"Temp9am\"]<2.3)&(features[\"Temp9am\"]>-2)]\n",
        "features = features[(features[\"Temp3pm\"]<2.3)&(features[\"Temp3pm\"]>-2)]\n",
        "\n",
        "\n",
        "features.shape"
      ]
    },
    {
      "cell_type": "code",
      "execution_count": 25,
      "metadata": {
        "colab": {
          "base_uri": "https://localhost:8080/",
          "height": 661
        },
        "id": "EWAfrs-ASBtc",
        "outputId": "cc06833f-99e4-4292-ec84-2013e44e192d"
      },
      "outputs": [
        {
          "output_type": "display_data",
          "data": {
            "text/plain": [
              "<Figure size 1440x720 with 1 Axes>"
            ],
            "image/png": "[encoded data removed]"
          },
          "metadata": {
            "needs_background": "light"
          }
        }
      ],
      "source": [
        "#looking at the scaled features without outliers\n",
        "\n",
        "plt.figure(figsize=(20,10))\n",
        "sns.boxenplot(data = features,palette = colours)\n",
        "plt.xticks(rotation=90)\n",
        "plt.show()"
      ]
    },
    {
      "cell_type": "code",
      "execution_count": 26,
      "metadata": {
        "colab": {
          "base_uri": "https://localhost:8080/",
          "height": 456
        },
        "id": "VGRQ0Yo-JyCu",
        "outputId": "eed2c0ab-a4b1-4a0e-806e-960af936a5f1"
      },
      "outputs": [
        {
          "output_type": "execute_result",
          "data": {
            "text/plain": [
              "        Date  Location  MinTemp  MaxTemp  Rainfall  Evaporation  Sunshine  \\\n",
              "0 2008-12-01         2     13.4     22.9       0.6          4.8       8.4   \n",
              "1 2008-12-02         2      7.4     25.1       0.0          4.8       8.4   \n",
              "2 2008-12-03         2     12.9     25.7       0.0          4.8       8.4   \n",
              "3 2008-12-04         2      9.2     28.0       0.0          4.8       8.4   \n",
              "4 2008-12-05         2     17.5     32.3       1.0          4.8       8.4   \n",
              "5 2008-12-06         2     14.6     29.7       0.2          4.8       8.4   \n",
              "6 2008-12-07         2     14.3     25.0       0.0          4.8       8.4   \n",
              "7 2008-12-08         2      7.7     26.7       0.0          4.8       8.4   \n",
              "8 2008-12-09         2      9.7     31.9       0.0          4.8       8.4   \n",
              "9 2008-12-10         2     13.1     30.1       1.4          4.8       8.4   \n",
              "\n",
              "   WindGustDir  WindGustSpeed  WindDir9am  ...  Temp3pm  RainToday  \\\n",
              "0           13           44.0          13  ...     21.8          0   \n",
              "1           14           44.0           6  ...     24.3          0   \n",
              "2           15           46.0          13  ...     23.2          0   \n",
              "3            4           24.0           9  ...     26.5          0   \n",
              "4           13           41.0           1  ...     29.7          0   \n",
              "5           14           56.0          13  ...     28.9          0   \n",
              "6           13           50.0          12  ...     24.6          0   \n",
              "7           13           35.0          10  ...     25.5          0   \n",
              "8            6           80.0           9  ...     30.2          0   \n",
              "9           13           28.0           8  ...     28.2          1   \n",
              "\n",
              "   RainTomorrow  year  month     month_sin  month_cos  day   day_sin   day_cos  \n",
              "0             0  2008     12 -2.449294e-16        1.0    1  0.201299  0.979530  \n",
              "1             0  2008     12 -2.449294e-16        1.0    2  0.394356  0.918958  \n",
              "2             0  2008     12 -2.449294e-16        1.0    3  0.571268  0.820763  \n",
              "3             0  2008     12 -2.449294e-16        1.0    4  0.724793  0.688967  \n",
              "4             0  2008     12 -2.449294e-16        1.0    5  0.848644  0.528964  \n",
              "5             0  2008     12 -2.449294e-16        1.0    6  0.937752  0.347305  \n",
              "6             0  2008     12 -2.449294e-16        1.0    7  0.988468  0.151428  \n",
              "7             0  2008     12 -2.449294e-16        1.0    8  0.998717 -0.050649  \n",
              "8             1  2008     12 -2.449294e-16        1.0    9  0.968077 -0.250653  \n",
              "9             0  2008     12 -2.449294e-16        1.0   10  0.897805 -0.440394  \n",
              "\n",
              "[10 rows x 30 columns]"
            ],
            "text/html": [
              "\n",
              "  <div id=\"df-c6a8e6a7-62e2-4cbe-b299-66208a4c50a1\">\n",
              "    <div class=\"colab-df-container\">\n",
              "      <div>\n",
              "<style scoped>\n",
              "    .dataframe tbody tr th:only-of-type {\n",
              "        vertical-align: middle;\n",
              "    }\n",
              "\n",
              "    .dataframe tbody tr th {\n",
              "        vertical-align: top;\n",
              "    }\n",
              "\n",
              "    .dataframe thead th {\n",
              "        text-align: right;\n",
              "    }\n",
              "</style>\n",
              "<table border=\"1\" class=\"dataframe\">\n",
              "  <thead>\n",
              "    <tr style=\"text-align: right;\">\n",
              "      <th></th>\n",
              "      <th>Date</th>\n",
              "      <th>Location</th>\n",
              "      <th>MinTemp</th>\n",
              "      <th>MaxTemp</th>\n",
              "      <th>Rainfall</th>\n",
              "      <th>Evaporation</th>\n",
              "      <th>Sunshine</th>\n",
              "      <th>WindGustDir</th>\n",
              "      <th>WindGustSpeed</th>\n",
              "      <th>WindDir9am</th>\n",
              "      <th>...</th>\n",
              "      <th>Temp3pm</th>\n",
              "      <th>RainToday</th>\n",
              "      <th>RainTomorrow</th>\n",
              "      <th>year</th>\n",
              "      <th>month</th>\n",
              "      <th>month_sin</th>\n",
              "      <th>month_cos</th>\n",
              "      <th>day</th>\n",
              "      <th>day_sin</th>\n",
              "      <th>day_cos</th>\n",
              "    </tr>\n",
              "  </thead>\n",
              "  <tbody>\n",
              "    <tr>\n",
              "      <th>0</th>\n",
              "      <td>2008-12-01</td>\n",
              "      <td>2</td>\n",
              "      <td>13.4</td>\n",
              "      <td>22.9</td>\n",
              "      <td>0.6</td>\n",
              "      <td>4.8</td>\n",
              "      <td>8.4</td>\n",
              "      <td>13</td>\n",
              "      <td>44.0</td>\n",
              "      <td>13</td>\n",
              "      <td>...</td>\n",
              "      <td>21.8</td>\n",
              "      <td>0</td>\n",
              "      <td>0</td>\n",
              "      <td>2008</td>\n",
              "      <td>12</td>\n",
              "      <td>-2.449294e-16</td>\n",
              "      <td>1.0</td>\n",
              "      <td>1</td>\n",
              "      <td>0.201299</td>\n",
              "      <td>0.979530</td>\n",
              "    </tr>\n",
              "    <tr>\n",
              "      <th>1</th>\n",
              "      <td>2008-12-02</td>\n",
              "      <td>2</td>\n",
              "      <td>7.4</td>\n",
              "      <td>25.1</td>\n",
              "      <td>0.0</td>\n",
              "      <td>4.8</td>\n",
              "      <td>8.4</td>\n",
              "      <td>14</td>\n",
              "      <td>44.0</td>\n",
              "      <td>6</td>\n",
              "      <td>...</td>\n",
              "      <td>24.3</td>\n",
              "      <td>0</td>\n",
              "      <td>0</td>\n",
              "      <td>2008</td>\n",
              "      <td>12</td>\n",
              "      <td>-2.449294e-16</td>\n",
              "      <td>1.0</td>\n",
              "      <td>2</td>\n",
              "      <td>0.394356</td>\n",
              "      <td>0.918958</td>\n",
              "    </tr>\n",
              "    <tr>\n",
              "      <th>2</th>\n",
              "      <td>2008-12-03</td>\n",
              "      <td>2</td>\n",
              "      <td>12.9</td>\n",
              "      <td>25.7</td>\n",
              "      <td>0.0</td>\n",
              "      <td>4.8</td>\n",
              "      <td>8.4</td>\n",
              "      <td>15</td>\n",
              "      <td>46.0</td>\n",
              "      <td>13</td>\n",
              "      <td>...</td>\n",
              "      <td>23.2</td>\n",
              "      <td>0</td>\n",
              "      <td>0</td>\n",
              "      <td>2008</td>\n",
              "      <td>12</td>\n",
              "      <td>-2.449294e-16</td>\n",
              "      <td>1.0</td>\n",
              "      <td>3</td>\n",
              "      <td>0.571268</td>\n",
              "      <td>0.820763</td>\n",
              "    </tr>\n",
              "    <tr>\n",
              "      <th>3</th>\n",
              "      <td>2008-12-04</td>\n",
              "      <td>2</td>\n",
              "      <td>9.2</td>\n",
              "      <td>28.0</td>\n",
              "      <td>0.0</td>\n",
              "      <td>4.8</td>\n",
              "      <td>8.4</td>\n",
              "      <td>4</td>\n",
              "      <td>24.0</td>\n",
              "      <td>9</td>\n",
              "      <td>...</td>\n",
              "      <td>26.5</td>\n",
              "      <td>0</td>\n",
              "      <td>0</td>\n",
              "      <td>2008</td>\n",
              "      <td>12</td>\n",
              "      <td>-2.449294e-16</td>\n",
              "      <td>1.0</td>\n",
              "      <td>4</td>\n",
              "      <td>0.724793</td>\n",
              "      <td>0.688967</td>\n",
              "    </tr>\n",
              "    <tr>\n",
              "      <th>4</th>\n",
              "      <td>2008-12-05</td>\n",
              "      <td>2</td>\n",
              "      <td>17.5</td>\n",
              "      <td>32.3</td>\n",
              "      <td>1.0</td>\n",
              "      <td>4.8</td>\n",
              "      <td>8.4</td>\n",
              "      <td>13</td>\n",
              "      <td>41.0</td>\n",
              "      <td>1</td>\n",
              "      <td>...</td>\n",
              "      <td>29.7</td>\n",
              "      <td>0</td>\n",
              "      <td>0</td>\n",
              "      <td>2008</td>\n",
              "      <td>12</td>\n",
              "      <td>-2.449294e-16</td>\n",
              "      <td>1.0</td>\n",
              "      <td>5</td>\n",
              "      <td>0.848644</td>\n",
              "      <td>0.528964</td>\n",
              "    </tr>\n",
              "    <tr>\n",
              "      <th>5</th>\n",
              "      <td>2008-12-06</td>\n",
              "      <td>2</td>\n",
              "      <td>14.6</td>\n",
              "      <td>29.7</td>\n",
              "      <td>0.2</td>\n",
              "      <td>4.8</td>\n",
              "      <td>8.4</td>\n",
              "      <td>14</td>\n",
              "      <td>56.0</td>\n",
              "      <td>13</td>\n",
              "      <td>...</td>\n",
              "      <td>28.9</td>\n",
              "      <td>0</td>\n",
              "      <td>0</td>\n",
              "      <td>2008</td>\n",
              "      <td>12</td>\n",
              "      <td>-2.449294e-16</td>\n",
              "      <td>1.0</td>\n",
              "      <td>6</td>\n",
              "      <td>0.937752</td>\n",
              "      <td>0.347305</td>\n",
              "    </tr>\n",
              "    <tr>\n",
              "      <th>6</th>\n",
              "      <td>2008-12-07</td>\n",
              "      <td>2</td>\n",
              "      <td>14.3</td>\n",
              "      <td>25.0</td>\n",
              "      <td>0.0</td>\n",
              "      <td>4.8</td>\n",
              "      <td>8.4</td>\n",
              "      <td>13</td>\n",
              "      <td>50.0</td>\n",
              "      <td>12</td>\n",
              "      <td>...</td>\n",
              "      <td>24.6</td>\n",
              "      <td>0</td>\n",
              "      <td>0</td>\n",
              "      <td>2008</td>\n",
              "      <td>12</td>\n",
              "      <td>-2.449294e-16</td>\n",
              "      <td>1.0</td>\n",
              "      <td>7</td>\n",
              "      <td>0.988468</td>\n",
              "      <td>0.151428</td>\n",
              "    </tr>\n",
              "    <tr>\n",
              "      <th>7</th>\n",
              "      <td>2008-12-08</td>\n",
              "      <td>2</td>\n",
              "      <td>7.7</td>\n",
              "      <td>26.7</td>\n",
              "      <td>0.0</td>\n",
              "      <td>4.8</td>\n",
              "      <td>8.4</td>\n",
              "      <td>13</td>\n",
              "      <td>35.0</td>\n",
              "      <td>10</td>\n",
              "      <td>...</td>\n",
              "      <td>25.5</td>\n",
              "      <td>0</td>\n",
              "      <td>0</td>\n",
              "      <td>2008</td>\n",
              "      <td>12</td>\n",
              "      <td>-2.449294e-16</td>\n",
              "      <td>1.0</td>\n",
              "      <td>8</td>\n",
              "      <td>0.998717</td>\n",
              "      <td>-0.050649</td>\n",
              "    </tr>\n",
              "    <tr>\n",
              "      <th>8</th>\n",
              "      <td>2008-12-09</td>\n",
              "      <td>2</td>\n",
              "      <td>9.7</td>\n",
              "      <td>31.9</td>\n",
              "      <td>0.0</td>\n",
              "      <td>4.8</td>\n",
              "      <td>8.4</td>\n",
              "      <td>6</td>\n",
              "      <td>80.0</td>\n",
              "      <td>9</td>\n",
              "      <td>...</td>\n",
              "      <td>30.2</td>\n",
              "      <td>0</td>\n",
              "      <td>1</td>\n",
              "      <td>2008</td>\n",
              "      <td>12</td>\n",
              "      <td>-2.449294e-16</td>\n",
              "      <td>1.0</td>\n",
              "      <td>9</td>\n",
              "      <td>0.968077</td>\n",
              "      <td>-0.250653</td>\n",
              "    </tr>\n",
              "    <tr>\n",
              "      <th>9</th>\n",
              "      <td>2008-12-10</td>\n",
              "      <td>2</td>\n",
              "      <td>13.1</td>\n",
              "      <td>30.1</td>\n",
              "      <td>1.4</td>\n",
              "      <td>4.8</td>\n",
              "      <td>8.4</td>\n",
              "      <td>13</td>\n",
              "      <td>28.0</td>\n",
              "      <td>8</td>\n",
              "      <td>...</td>\n",
              "      <td>28.2</td>\n",
              "      <td>1</td>\n",
              "      <td>0</td>\n",
              "      <td>2008</td>\n",
              "      <td>12</td>\n",
              "      <td>-2.449294e-16</td>\n",
              "      <td>1.0</td>\n",
              "      <td>10</td>\n",
              "      <td>0.897805</td>\n",
              "      <td>-0.440394</td>\n",
              "    </tr>\n",
              "  </tbody>\n",
              "</table>\n",
              "<p>10 rows × 30 columns</p>\n",
              "</div>\n",
              "      <button class=\"colab-df-convert\" onclick=\"convertToInteractive('df-c6a8e6a7-62e2-4cbe-b299-66208a4c50a1')\"\n",
              "              title=\"Convert this dataframe to an interactive table.\"\n",
              "              style=\"display:none;\">\n",
              "        \n",
              "  <svg xmlns=\"http://www.w3.org/2000/svg\" height=\"24px\"viewBox=\"0 0 24 24\"\n",
              "       width=\"24px\">\n",
              "    <path d=\"M0 0h24v24H0V0z\" fill=\"none\"/>\n",
              "    <path d=\"M18.56 5.44l.94 2.06.94-2.06 2.06-.94-2.06-.94-.94-2.06-.94 2.06-2.06.94zm-11 1L8.5 8.5l.94-2.06 2.06-.94-2.06-.94L8.5 2.5l-.94 2.06-2.06.94zm10 10l.94 2.06.94-2.06 2.06-.94-2.06-.94-.94-2.06-.94 2.06-2.06.94z\"/><path d=\"M17.41 7.96l-1.37-1.37c-.4-.4-.92-.59-1.43-.59-.52 0-1.04.2-1.43.59L10.3 9.45l-7.72 7.72c-.78.78-.78 2.05 0 2.83L4 21.41c.39.39.9.59 1.41.59.51 0 1.02-.2 1.41-.59l7.78-7.78 2.81-2.81c.8-.78.8-2.07 0-2.86zM5.41 20L4 18.59l7.72-7.72 1.47 1.35L5.41 20z\"/>\n",
              "  </svg>\n",
              "      </button>\n",
              "      \n",
              "  <style>\n",
              "    .colab-df-container {\n",
              "      display:flex;\n",
              "      flex-wrap:wrap;\n",
              "      gap: 12px;\n",
              "    }\n",
              "\n",
              "    .colab-df-convert {\n",
              "      background-color: #E8F0FE;\n",
              "      border: none;\n",
              "      border-radius: 50%;\n",
              "      cursor: pointer;\n",
              "      display: none;\n",
              "      fill: #1967D2;\n",
              "      height: 32px;\n",
              "      padding: 0 0 0 0;\n",
              "      width: 32px;\n",
              "    }\n",
              "\n",
              "    .colab-df-convert:hover {\n",
              "      background-color: #E2EBFA;\n",
              "      box-shadow: 0px 1px 2px rgba(60, 64, 67, 0.3), 0px 1px 3px 1px rgba(60, 64, 67, 0.15);\n",
              "      fill: #174EA6;\n",
              "    }\n",
              "\n",
              "    [theme=dark] .colab-df-convert {\n",
              "      background-color: #3B4455;\n",
              "      fill: #D2E3FC;\n",
              "    }\n",
              "\n",
              "    [theme=dark] .colab-df-convert:hover {\n",
              "      background-color: #434B5C;\n",
              "      box-shadow: 0px 1px 3px 1px rgba(0, 0, 0, 0.15);\n",
              "      filter: drop-shadow(0px 1px 2px rgba(0, 0, 0, 0.3));\n",
              "      fill: #FFFFFF;\n",
              "    }\n",
              "  </style>\n",
              "\n",
              "      <script>\n",
              "        const buttonEl =\n",
              "          document.querySelector('#df-c6a8e6a7-62e2-4cbe-b299-66208a4c50a1 button.colab-df-convert');\n",
              "        buttonEl.style.display =\n",
              "          google.colab.kernel.accessAllowed ? 'block' : 'none';\n",
              "\n",
              "        async function convertToInteractive(key) {\n",
              "          const element = document.querySelector('#df-c6a8e6a7-62e2-4cbe-b299-66208a4c50a1');\n",
              "          const dataTable =\n",
              "            await google.colab.kernel.invokeFunction('convertToInteractive',\n",
              "                                                     [key], {});\n",
              "          if (!dataTable) return;\n",
              "\n",
              "          const docLinkHtml = 'Like what you see? Visit the ' +\n",
              "            '<a target=\"_blank\" href=https://colab.research.google.com/notebooks/data_table.ipynb>data table notebook</a>'\n",
              "            + ' to learn more about interactive tables.';\n",
              "          element.innerHTML = '';\n",
              "          dataTable['output_type'] = 'display_data';\n",
              "          await google.colab.output.renderOutput(dataTable, element);\n",
              "          const docLink = document.createElement('div');\n",
              "          docLink.innerHTML = docLinkHtml;\n",
              "          element.appendChild(docLink);\n",
              "        }\n",
              "      </script>\n",
              "    </div>\n",
              "  </div>\n",
              "  "
            ]
          },
          "metadata": {},
          "execution_count": 26
        }
      ],
      "source": [
        "data.head(10)"
      ]
    },
    {
      "cell_type": "code",
      "execution_count": null,
      "metadata": {
        "colab": {
          "base_uri": "https://localhost:8080/"
        },
        "id": "OAdcqGs7NP6p",
        "outputId": "ad848954-9e0f-4d10-c086-42c9dc6b2384"
      },
      "outputs": [
        {
          "name": "stdout",
          "output_type": "stream",
          "text": [
            "<class 'pandas.core.frame.DataFrame'>\n",
            "RangeIndex: 145460 entries, 0 to 145459\n",
            "Data columns (total 30 columns):\n",
            " #   Column         Non-Null Count   Dtype         \n",
            "---  ------         --------------   -----         \n",
            " 0   Date           145460 non-null  datetime64[ns]\n",
            " 1   Location       145460 non-null  int64         \n",
            " 2   MinTemp        145460 non-null  float64       \n",
            " 3   MaxTemp        145460 non-null  float64       \n",
            " 4   Rainfall       145460 non-null  float64       \n",
            " 5   Evaporation    145460 non-null  float64       \n",
            " 6   Sunshine       145460 non-null  float64       \n",
            " 7   WindGustDir    145460 non-null  int64         \n",
            " 8   WindGustSpeed  145460 non-null  float64       \n",
            " 9   WindDir9am     145460 non-null  int64         \n",
            " 10  WindDir3pm     145460 non-null  int64         \n",
            " 11  WindSpeed9am   145460 non-null  float64       \n",
            " 12  WindSpeed3pm   145460 non-null  float64       \n",
            " 13  Humidity9am    145460 non-null  float64       \n",
            " 14  Humidity3pm    145460 non-null  float64       \n",
            " 15  Pressure9am    145460 non-null  float64       \n",
            " 16  Pressure3pm    145460 non-null  float64       \n",
            " 17  Cloud9am       145460 non-null  float64       \n",
            " 18  Cloud3pm       145460 non-null  float64       \n",
            " 19  Temp9am        145460 non-null  float64       \n",
            " 20  Temp3pm        145460 non-null  float64       \n",
            " 21  RainToday      145460 non-null  int64         \n",
            " 22  RainTomorrow   145460 non-null  int64         \n",
            " 23  year           145460 non-null  int64         \n",
            " 24  month          145460 non-null  int64         \n",
            " 25  month_sin      145460 non-null  float64       \n",
            " 26  month_cos      145460 non-null  float64       \n",
            " 27  day            145460 non-null  int64         \n",
            " 28  day_sin        145460 non-null  float64       \n",
            " 29  day_cos        145460 non-null  float64       \n",
            "dtypes: datetime64[ns](1), float64(20), int64(9)\n",
            "memory usage: 33.3 MB\n"
          ]
        }
      ],
      "source": [
        "data.info()"
      ]
    },
    {
      "cell_type": "markdown",
      "metadata": {
        "id": "pmSoTkBKLZfw"
      },
      "source": [
        "# Models"
      ]
    },
    {
      "cell_type": "markdown",
      "source": [
        "preparing the inputs"
      ],
      "metadata": {
        "id": "W7aMUO9Be4p3"
      }
    },
    {
      "cell_type": "code",
      "execution_count": 28,
      "metadata": {
        "colab": {
          "base_uri": "https://localhost:8080/"
        },
        "id": "HfvFYGL2M5uH",
        "outputId": "4e9a1a76-5af8-49f1-c658-148e32260944"
      },
      "outputs": [
        {
          "output_type": "execute_result",
          "data": {
            "text/plain": [
              "((116368, 28), (29092, 28), (116368,), (29092,))"
            ]
          },
          "metadata": {},
          "execution_count": 28
        }
      ],
      "source": [
        "#define X variables and our target(y)\n",
        "X = data.drop(['RainTomorrow','Date'],axis=1).values\n",
        "y = data['RainTomorrow'].values\n",
        "\n",
        "#Normalization\n",
        "from sklearn.preprocessing import StandardScaler\n",
        "scaler = StandardScaler()\n",
        "X_scaled = scaler.fit_transform(X)\n",
        "\n",
        "#split Train and Test\n",
        "from sklearn.model_selection import train_test_split\n",
        "X_train, X_test, y_train, y_test = train_test_split(X_scaled, y, test_size=0.2, random_state=42)\n",
        "X_train.shape, X_test.shape, y_train.shape, y_test.shape"
      ]
    },
    {
      "cell_type": "markdown",
      "metadata": {
        "id": "Q7ljDF1iSBtd"
      },
      "source": [
        "## 1. Logistic Regression"
      ]
    },
    {
      "cell_type": "code",
      "execution_count": 29,
      "metadata": {
        "id": "j02nGvs0gpCj"
      },
      "outputs": [],
      "source": [
        "from sklearn.linear_model import LogisticRegression\n",
        "from sklearn.model_selection import GridSearchCV\n",
        "from sklearn.metrics import classification_report, confusion_matrix\n"
      ]
    },
    {
      "cell_type": "code",
      "execution_count": null,
      "metadata": {
        "colab": {
          "base_uri": "https://localhost:8080/"
        },
        "id": "_2ebTWLTJfhJ",
        "outputId": "3f7d92aa-27ff-4a45-91d3-1a0aeaf92f96"
      },
      "outputs": [
        {
          "name": "stdout",
          "output_type": "stream",
          "text": [
            "tuned hpyerparameters :(best parameters)  {'C': 1.0, 'penalty': 'l2'}\n",
            "accuracy : 0.47888620695509115\n"
          ]
        }
      ],
      "source": [
        "grid = {\"C\":np.logspace(-3,3,7), \"penalty\":[\"l1\",\"l2\"]}# l1 lasso l2 ridge\n",
        "logreg = LogisticRegression(solver='liblinear')\n",
        "logreg_cv = GridSearchCV(logreg, grid, cv=10, scoring='recall')\n",
        "logreg_cv.fit(X_train,y_train)\n",
        "\n",
        "print(\"tuned hpyerparameters :(best parameters) \",logreg_cv.best_params_)\n",
        "print(\"accuracy :\",logreg_cv.best_score_)"
      ]
    },
    {
      "cell_type": "code",
      "execution_count": null,
      "metadata": {
        "id": "0q5Ul8ypN95F"
      },
      "outputs": [],
      "source": [
        "# Best model\n",
        "best_logreg = LogisticRegression(C=1, penalty=\"l2\")\n",
        "best_logreg.fit(X_train, y_train)\n",
        "y_pred = best_logreg.predict(X_test)\n"
      ]
    },
    {
      "cell_type": "markdown",
      "metadata": {
        "id": "yhEshMRqR6WW"
      },
      "source": [
        "https://stats.stackexchange.com/questions/205470/low-recall-and-high-precision-in-text-summarization"
      ]
    },
    {
      "cell_type": "code",
      "execution_count": null,
      "metadata": {
        "colab": {
          "base_uri": "https://localhost:8080/",
          "height": 462
        },
        "id": "noywFHr-QBjE",
        "outputId": "6dea7187-df45-48dc-a19b-146ecb33bccb"
      },
      "outputs": [
        {
          "name": "stdout",
          "output_type": "stream",
          "text": [
            "              precision    recall  f1-score   support\n",
            "\n",
            "           0       0.86      0.95      0.90     22672\n",
            "           1       0.71      0.47      0.57      6420\n",
            "\n",
            "    accuracy                           0.84     29092\n",
            "   macro avg       0.79      0.71      0.74     29092\n",
            "weighted avg       0.83      0.84      0.83     29092\n",
            "\n",
            "[[21454  1218]\n",
            " [ 3379  3041]]\n"
          ]
        },
        {
          "data": {
            "image/png": "[encoded data removed]",
            "text/plain": [
              "<Figure size 432x288 with 2 Axes>"
            ]
          },
          "metadata": {},
          "output_type": "display_data"
        }
      ],
      "source": [
        "cmG = confusion_matrix(y_test,y_pred)\n",
        "sns.heatmap(cmG,cmap = cmap, annot=True,fmt=\".1f\")\n",
        "print(classification_report(y_test,y_pred))\n",
        "print(confusion_matrix(y_test,y_pred))"
      ]
    },
    {
      "cell_type": "markdown",
      "metadata": {
        "id": "Qieb3J94SKDn"
      },
      "source": [
        "## 2. K — Nearest Neighbor Classifier"
      ]
    },
    {
      "cell_type": "code",
      "execution_count": null,
      "metadata": {
        "id": "NO4lbgG6R_XM"
      },
      "outputs": [],
      "source": [
        "from sklearn.neighbors import KNeighborsClassifier"
      ]
    },
    {
      "cell_type": "code",
      "execution_count": null,
      "metadata": {
        "id": "L_6l6pumSAgS"
      },
      "outputs": [],
      "source": [
        "knn = KNeighborsClassifier(n_neighbors = 1)\n",
        "knn.fit(X_train, y_train)\n",
        "knn_predict = knn.predict(X_test)"
      ]
    },
    {
      "cell_type": "code",
      "execution_count": null,
      "metadata": {
        "colab": {
          "base_uri": "https://localhost:8080/",
          "height": 466
        },
        "id": "mlD5sEkyQg3g",
        "outputId": "4b1dadfe-142e-40ff-a52c-d82fa6bfeee6"
      },
      "outputs": [
        {
          "name": "stdout",
          "output_type": "stream",
          "text": [
            "              precision    recall  f1-score   support\n",
            "\n",
            "           0       0.87      0.88      0.87     22672\n",
            "           1       0.56      0.52      0.54      6420\n",
            "\n",
            "    accuracy                           0.80     29092\n",
            "   macro avg       0.71      0.70      0.71     29092\n",
            "weighted avg       0.80      0.80      0.80     29092\n",
            "\n",
            "[[20026  2646]\n",
            " [ 3078  3342]]\n"
          ]
        },
        {
          "data": {
            "image/png": "[encoded data removed]",
            "text/plain": [
              "<Figure size 432x288 with 2 Axes>"
            ]
          },
          "metadata": {},
          "output_type": "display_data"
        }
      ],
      "source": [
        "cmG = confusion_matrix(y_test,knn_predict)\n",
        "sns.heatmap(cmG,cmap=cmap, annot=True,fmt=\".1f\")\n",
        "print(classification_report(y_test,knn_predict))\n",
        "print(confusion_matrix(y_test,knn_predict))"
      ]
    },
    {
      "cell_type": "markdown",
      "metadata": {
        "id": "sFRQILgpSnzT"
      },
      "source": [
        "hypertune KNN"
      ]
    },
    {
      "cell_type": "code",
      "execution_count": null,
      "metadata": {
        "colab": {
          "base_uri": "https://localhost:8080/"
        },
        "id": "OaNFOrYsSZqd",
        "outputId": "c97cf4bf-4903-41d6-bc0a-be2075597f4b"
      },
      "outputs": [
        {
          "data": {
            "text/plain": [
              "({'n_neighbors': 1}, 0.5138077218087002)"
            ]
          },
          "execution_count": 52,
          "metadata": {},
          "output_type": "execute_result"
        }
      ],
      "source": [
        "from sklearn.model_selection import GridSearchCV\n",
        "\n",
        "knn = KNeighborsClassifier()\n",
        "\n",
        "knn_params = {'n_neighbors': range(1,13)}\n",
        "\n",
        "knn_classifier = GridSearchCV(knn, knn_params, cv=10, scoring='recall')\n",
        "\n",
        "knn_classifier.fit(X_train, y_train)\n",
        "\n",
        "knn_classifier.best_params_, knn_classifier.best_score_"
      ]
    },
    {
      "cell_type": "code",
      "execution_count": null,
      "metadata": {
        "colab": {
          "base_uri": "https://localhost:8080/",
          "height": 462
        },
        "id": "Hns5it2ESq4X",
        "outputId": "ea6ee429-b812-4773-878a-fb5d2569fc27"
      },
      "outputs": [
        {
          "name": "stdout",
          "output_type": "stream",
          "text": [
            "              precision    recall  f1-score   support\n",
            "\n",
            "           0       0.86      0.94      0.90     22672\n",
            "           1       0.68      0.46      0.55      6420\n",
            "\n",
            "    accuracy                           0.83     29092\n",
            "   macro avg       0.77      0.70      0.72     29092\n",
            "weighted avg       0.82      0.83      0.82     29092\n",
            "\n",
            "[[21263  1409]\n",
            " [ 3463  2957]]\n"
          ]
        },
        {
          "data": {
            "image/png": "[encoded data removed]",
            "text/plain": [
              "<Figure size 432x288 with 2 Axes>"
            ]
          },
          "metadata": {},
          "output_type": "display_data"
        }
      ],
      "source": [
        "# Best model\n",
        "best_knn = KNeighborsClassifier(n_neighbors=5)\n",
        "best_knn.fit(X_train, y_train)\n",
        "y_pred = best_knn.predict(X_test)\n",
        "\n",
        "cmG = confusion_matrix(y_test,y_pred)\n",
        "sns.heatmap(cmG,cmap=cmap ,annot=True,fmt=\".1f\")\n",
        "print(classification_report(y_test,y_pred))\n",
        "print(confusion_matrix(y_test,y_pred))"
      ]
    },
    {
      "cell_type": "markdown",
      "metadata": {
        "id": "5NSrf3FKf1Qx"
      },
      "source": [
        "## SVM classifier"
      ]
    },
    {
      "cell_type": "code",
      "execution_count": 27,
      "metadata": {
        "id": "-EkiGjc5gj7X"
      },
      "outputs": [],
      "source": [
        "# import SVC classifier\n",
        "from sklearn.svm import SVC\n",
        "\n",
        "\n",
        "# import metrics to compute accuracy\n",
        "from sklearn.metrics import accuracy_score"
      ]
    },
    {
      "cell_type": "markdown",
      "source": [
        "Default hyperparameter means C=1.0, kernel=rbf and gamma=auto among other parameters."
      ],
      "metadata": {
        "id": "UE-8w6WcfYx_"
      }
    },
    {
      "cell_type": "code",
      "execution_count": null,
      "metadata": {
        "colab": {
          "background_save": true
        },
        "id": "Kv4nIy1cdkil",
        "outputId": "74237fd2-eb65-4e51-9a9e-1a78fbcf6591"
      },
      "outputs": [
        {
          "name": "stdout",
          "output_type": "stream",
          "text": [
            "Model accuracy score with default hyperparameters: 0.8511\n"
          ]
        }
      ],
      "source": [
        "# instantiate classifier with default hyperparameters\n",
        "svc=SVC() \n",
        "\n",
        "\n",
        "# fit classifier to training set\n",
        "svc.fit(X_train,y_train)\n",
        "\n",
        "\n",
        "# make predictions on test set\n",
        "y_pred=svc.predict(X_test)\n",
        "\n",
        "\n",
        "# compute and print accuracy score\n",
        "print('Model accuracy score with default hyperparameters: {0:0.4f}'. format(accuracy_score(y_test, y_pred)))"
      ]
    },
    {
      "cell_type": "code",
      "source": [
        "cmG = confusion_matrix(y_test,y_pred)\n",
        "sns.heatmap(cmG,cmap = cmap, annot=True,fmt=\".1f\")\n",
        "print(classification_report(y_test,y_pred))\n",
        "print(confusion_matrix(y_test,y_pred))"
      ],
      "metadata": {
        "id": "szijLzDPhRTL"
      },
      "execution_count": null,
      "outputs": []
    },
    {
      "cell_type": "markdown",
      "source": [
        "Run SVM with linear kernel and C=1.0"
      ],
      "metadata": {
        "id": "Pnw7oFiLfpvb"
      }
    },
    {
      "cell_type": "code",
      "execution_count": 30,
      "metadata": {
        "id": "E76qvZqwgl57",
        "colab": {
          "base_uri": "https://localhost:8080/"
        },
        "outputId": "a3f8dcf1-8677-44ee-ab6f-c9352e64946e"
      },
      "outputs": [
        {
          "output_type": "stream",
          "name": "stdout",
          "text": [
            "Model accuracy score with linear kernel and C=1.0 : 0.8415\n"
          ]
        }
      ],
      "source": [
        "# instantiate classifier with linear kernel and C=1.0\n",
        "linear_svc=SVC(kernel='linear', C=1.0) \n",
        "\n",
        "\n",
        "# fit classifier to training set\n",
        "linear_svc.fit(X_train,y_train)\n",
        "\n",
        "\n",
        "# make predictions on test set\n",
        "y_pred_test=linear_svc.predict(X_test)\n",
        "\n",
        "\n",
        "# compute and print accuracy score\n",
        "print('Model accuracy score with linear kernel and C=1.0 : {0:0.4f}'. format(accuracy_score(y_test, y_pred_test)))"
      ]
    },
    {
      "cell_type": "code",
      "source": [
        "cmG = confusion_matrix(y_test,y_pred_test)\n",
        "sns.heatmap(cmG,cmap = cmap, annot=True,fmt=\".1f\")\n",
        "print(classification_report(y_test,y_pred_test))\n",
        "print(confusion_matrix(y_test,y_pred_test))"
      ],
      "metadata": {
        "colab": {
          "base_uri": "https://localhost:8080/",
          "height": 462
        },
        "id": "sjNXenmQhPNj",
        "outputId": "b75ba1a3-126b-4e2b-ce5d-a5e8a029ca1e"
      },
      "execution_count": 34,
      "outputs": [
        {
          "output_type": "stream",
          "name": "stdout",
          "text": [
            "              precision    recall  f1-score   support\n",
            "\n",
            "           0       0.86      0.95      0.90     22672\n",
            "           1       0.73      0.44      0.55      6420\n",
            "\n",
            "    accuracy                           0.84     29092\n",
            "   macro avg       0.80      0.70      0.73     29092\n",
            "weighted avg       0.83      0.84      0.83     29092\n",
            "\n",
            "[[21651  1021]\n",
            " [ 3591  2829]]\n"
          ]
        },
        {
          "output_type": "display_data",
          "data": {
            "text/plain": [
              "<Figure size 432x288 with 2 Axes>"
            ],
            "image/png": "[encoded data removed]"
          },
          "metadata": {
            "needs_background": "light"
          }
        }
      ]
    },
    {
      "cell_type": "markdown",
      "source": [
        "Run SVM with linear kernel and C=100.0"
      ],
      "metadata": {
        "id": "e8kpCvN4fw2y"
      }
    },
    {
      "cell_type": "code",
      "source": [
        "# instantiate classifier with linear kernel and C=100.0\n",
        "linear_svc100=SVC(kernel='linear', C=100.0) \n",
        "\n",
        "\n",
        "# fit classifier to training set\n",
        "linear_svc100.fit(X_train, y_train)\n",
        "\n",
        "\n",
        "# make predictions on test set\n",
        "y_pred=linear_svc100.predict(X_test)\n",
        "\n",
        "\n",
        "# compute and print accuracy score\n",
        "print('Model accuracy score with linear kernel and C=100.0 : {0:0.4f}'. format(accuracy_score(y_test, y_pred)))"
      ],
      "metadata": {
        "id": "Aeq6tp6JfsOo"
      },
      "execution_count": null,
      "outputs": []
    },
    {
      "cell_type": "code",
      "source": [
        "cmG = confusion_matrix(y_test,y_pred_test)\n",
        "sns.heatmap(cmG,cmap = cmap, annot=True,fmt=\".1f\")\n",
        "print(classification_report(y_test,y_pred_test))\n",
        "print(confusion_matrix(y_test,y_pred_test))"
      ],
      "metadata": {
        "id": "Gq9yz-c8p6zt"
      },
      "execution_count": null,
      "outputs": []
    },
    {
      "cell_type": "markdown",
      "source": [
        "Grid search"
      ],
      "metadata": {
        "id": "f0MJN9Sdp-hW"
      }
    },
    {
      "cell_type": "code",
      "source": [
        "# import GridSearchCV\n",
        "from sklearn.model_selection import GridSearchCV\n",
        "\n",
        "\n",
        "# import SVC classifier\n",
        "from sklearn.svm import SVC\n",
        "\n",
        "\n",
        "# instantiate classifier with default hyperparameters with kernel=rbf, C=1.0 and gamma=auto\n",
        "svc=SVC() \n",
        "\n",
        "\n",
        "\n",
        "# declare parameters for hyperparameter tuning\n",
        "parameters = [ {'C':[1, 10, 100, 1000], 'kernel':['linear']},\n",
        "               {'C':[1, 10, 100, 1000], 'kernel':['rbf'], 'gamma':[0.1, 0.2, 0.3, 0.4, 0.5, 0.6, 0.7, 0.8, 0.9]},\n",
        "               {'C':[1, 10, 100, 1000], 'kernel':['poly'], 'degree': [2,3,4] ,'gamma':[0.01,0.02,0.03,0.04,0.05]} \n",
        "              ]\n",
        "\n",
        "\n",
        "\n",
        "\n",
        "grid_search = GridSearchCV(estimator = svc,  \n",
        "                           param_grid = parameters,\n",
        "                           scoring = 'accuracy',\n",
        "                           cv = 5,\n",
        "                           verbose=0)\n",
        "\n",
        "\n",
        "grid_search.fit(X_train, y_train)\n",
        "\n",
        "GridSearchCV(cv=5, error_score='raise-deprecating',"
      ],
      "metadata": {
        "id": "v-SzC5x_p4NW"
      },
      "execution_count": null,
      "outputs": []
    }
  ],
  "metadata": {
    "colab": {
      "provenance": [],
      "include_colab_link": true
    },
    "kernelspec": {
      "display_name": "Python 3",
      "language": "python",
      "name": "python3"
    },
    "language_info": {
      "codemirror_mode": {
        "name": "ipython",
        "version": 3
      },
      "file_extension": ".py",
      "mimetype": "text/x-python",
      "name": "python",
      "nbconvert_exporter": "python",
      "pygments_lexer": "ipython3",
      "version": "3.7.9"
    }
  },
  "nbformat": 4,
  "nbformat_minor": 0
}